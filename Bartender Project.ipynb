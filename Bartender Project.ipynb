{
 "cells": [
  {
   "cell_type": "code",
   "execution_count": 13,
   "metadata": {},
   "outputs": [],
   "source": [
    "questions = {\n",
    "\"strong\": \"Do ye like yer drinks strong?\",\n",
    "\"salty\": \"Do ye like it with a salty tang?\",\n",
    "\"bitter\": \"Are ye a lubber who likes it bitter?\",\n",
    "\"sweet\": \"Would ye like a bit of sweetness with yer poison?\",\n",
    "\"fruity\": \"Are ye one for a fruity finish?\",\n",
    "}\n",
    "ingredients = {\n",
    "\"strong\": [\"glug of rum\", \"slug of whisky\", \"splash of gin\"],\n",
    "\"salty\": [\"olive on a stick\", \"salt-dusted rim\", \"rasher of bacon\"],\n",
    "\"bitter\": [\"shake of bitters\", \"splash of tonic\", \"twist of lemon peel\"],\n",
    "\"sweet\": [\"sugar cube\", \"spoonful of honey\", \"spash of cola\"],\n",
    "\"fruity\": [\"slice of orange\", \"dash of cassis\", \"cherry on top\"],\n",
    "}"
   ]
  },
  {
   "cell_type": "code",
   "execution_count": 14,
   "metadata": {},
   "outputs": [],
   "source": [
    "def ask_customer():\n",
    "    \"\"\"Ask customer what their tastes are\"\"\"\n",
    "    while True:\n",
    "        for k,v in questions.items():\n",
    "            print(v)\n",
    "            n = str(input(\"y/n: \"))\n",
    "            print()\n",
    "            if n.lower() == \"y\":\n",
    "                    show_ingredient(k)\n",
    "                    return False\n",
    "                \n",
    "def show_ingredient(t):\n",
    "    \"\"\"Show random ingredient when the customer confirmed his/her taste\"\"\"\n",
    "    import random\n",
    "    ing_list = list(ingredients[t]) # create ingredients list\n",
    "    print(random.choice(ing_list))"
   ]
  },
  {
   "cell_type": "code",
   "execution_count": 15,
   "metadata": {},
   "outputs": [
    {
     "name": "stdout",
     "output_type": "stream",
     "text": [
      "Do ye like yer drinks strong?\n",
      "y/n: n\n",
      "\n",
      "Do ye like it with a salty tang?\n",
      "y/n: n\n",
      "\n",
      "Are ye a lubber who likes it bitter?\n",
      "y/n: n\n",
      "\n",
      "Would ye like a bit of sweetness with yer poison?\n",
      "y/n: n\n",
      "\n",
      "Are ye one for a fruity finish?\n",
      "y/n: n\n",
      "\n",
      "Do ye like yer drinks strong?\n",
      "y/n: n\n",
      "\n",
      "Do ye like it with a salty tang?\n",
      "y/n: y\n",
      "\n",
      "rasher of bacon\n"
     ]
    },
    {
     "data": {
      "text/plain": [
       "False"
      ]
     },
     "execution_count": 15,
     "metadata": {},
     "output_type": "execute_result"
    }
   ],
   "source": [
    "ask_customer() # test"
   ]
  },
  {
   "cell_type": "code",
   "execution_count": null,
   "metadata": {},
   "outputs": [],
   "source": []
  }
 ],
 "metadata": {
  "kernelspec": {
   "display_name": "Python 3",
   "language": "python",
   "name": "python3"
  },
  "language_info": {
   "codemirror_mode": {
    "name": "ipython",
    "version": 3
   },
   "file_extension": ".py",
   "mimetype": "text/x-python",
   "name": "python",
   "nbconvert_exporter": "python",
   "pygments_lexer": "ipython3",
   "version": "3.7.3"
  }
 },
 "nbformat": 4,
 "nbformat_minor": 2
}
