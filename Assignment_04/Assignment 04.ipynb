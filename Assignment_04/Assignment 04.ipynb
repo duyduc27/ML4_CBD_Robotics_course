{
 "cells": [
  {
   "cell_type": "markdown",
   "metadata": {},
   "source": [
    "# Table of Contents:\n",
    "[I. Introduction](#I.-Introduction)<br><br>\n",
    "[II. Examine and Explore data](#II.-Examine-and-Explore-data)<br>\n",
    "[2a. Prepare data](#2a.-Prepare-data)<br>\n",
    "[2b. Examine data](#2b.-Examine-data)<br>\n",
    "[2c. Checking and Handling Missing Values](#2c.-Checking-and-Handling-Missing-Values)<br>\n",
    "[2d. Choosing \"Features\"](#2d.-Choosing-\"Features\")<br><br>\n",
    "[III. Apply the model for prediction with holdout and cross validation](#III.-Apply-the-model-for-prediction-with-holdout-and-cross-validation)<br><br>\n",
    "[IV. Using PCA, apply the model with holdout and cross validation](#IV.-Using-PCA,-apply-the-model-with-holdout-and-cross-validation)<br><br>\n",
    "[V. Analysis for each section](#V.-Analysis-for-each-section)<br><br>\n",
    "[VI. Changing model](#VI.-Changing-model)<br><br>\n",
    "[VII. Conclusions](#VII.-Conclusions)<br><br>\n",
    "[VIII. References](#VIII.-References)"
   ]
  },
  {
   "cell_type": "markdown",
   "metadata": {},
   "source": [
    "## I. Introduction\n",
    "Sử dụng dữ liệu để tạo ra model (Linear Regression) để tiên đoán giá nhà. Dự án này đi theo những bước sau:<br>\n",
    "- Kiểm tra và khám phá dữ liệu ( minh họa, tương tác trong các features)\n",
    "- Ứng dụng model để tiên đoán với holdout và cross validation\n",
    "- Sử dụng PCA, ứng dụng model với holdout và cross validation\n",
    "- Minh họa phần dư (residue)\n",
    "- Tune model nếu cần thiết\n",
    "- Viết phân tích cho mỗi phần (ví dụ giải thích tại sao model bị overfitting, giải thích tại sao áp dụng PCA thì tốt hơn, vâng vâng...)\n",
    "- Bao gồm các kết luận cho tổng kết"
   ]
  },
  {
   "cell_type": "markdown",
   "metadata": {},
   "source": [
    "## II. Examine and Explore data"
   ]
  },
  {
   "cell_type": "markdown",
   "metadata": {},
   "source": [
    "### 2a. Prepare data\n",
    "<br>\n",
    "**Import những libraries cần thiết và tải dữ liệu**"
   ]
  },
  {
   "cell_type": "code",
   "execution_count": 51,
   "metadata": {},
   "outputs": [],
   "source": [
    "import pandas as pd\n",
    "import numpy as np\n",
    "import matplotlib.pyplot as plt\n",
    "import matplotlib as matplot\n",
    "import seaborn as sns\n",
    "%matplotlib inline"
   ]
  },
  {
   "cell_type": "code",
   "execution_count": 52,
   "metadata": {
    "scrolled": false
   },
   "outputs": [
    {
     "data": {
      "text/html": [
       "<div>\n",
       "<style scoped>\n",
       "    .dataframe tbody tr th:only-of-type {\n",
       "        vertical-align: middle;\n",
       "    }\n",
       "\n",
       "    .dataframe tbody tr th {\n",
       "        vertical-align: top;\n",
       "    }\n",
       "\n",
       "    .dataframe thead th {\n",
       "        text-align: right;\n",
       "    }\n",
       "</style>\n",
       "<table border=\"1\" class=\"dataframe\">\n",
       "  <thead>\n",
       "    <tr style=\"text-align: right;\">\n",
       "      <th></th>\n",
       "      <th>Suburb</th>\n",
       "      <th>Address</th>\n",
       "      <th>Rooms</th>\n",
       "      <th>Type</th>\n",
       "      <th>Price</th>\n",
       "      <th>Method</th>\n",
       "      <th>SellerG</th>\n",
       "      <th>Date</th>\n",
       "      <th>Postcode</th>\n",
       "      <th>Regionname</th>\n",
       "      <th>Propertycount</th>\n",
       "      <th>Distance</th>\n",
       "      <th>CouncilArea</th>\n",
       "    </tr>\n",
       "  </thead>\n",
       "  <tbody>\n",
       "    <tr>\n",
       "      <th>0</th>\n",
       "      <td>Abbotsford</td>\n",
       "      <td>49 Lithgow St</td>\n",
       "      <td>3</td>\n",
       "      <td>h</td>\n",
       "      <td>1490000.0</td>\n",
       "      <td>S</td>\n",
       "      <td>Jellis</td>\n",
       "      <td>1/04/2017</td>\n",
       "      <td>3067</td>\n",
       "      <td>Northern Metropolitan</td>\n",
       "      <td>4019</td>\n",
       "      <td>3.0</td>\n",
       "      <td>Yarra City Council</td>\n",
       "    </tr>\n",
       "    <tr>\n",
       "      <th>1</th>\n",
       "      <td>Abbotsford</td>\n",
       "      <td>59A Turner St</td>\n",
       "      <td>3</td>\n",
       "      <td>h</td>\n",
       "      <td>1220000.0</td>\n",
       "      <td>S</td>\n",
       "      <td>Marshall</td>\n",
       "      <td>1/04/2017</td>\n",
       "      <td>3067</td>\n",
       "      <td>Northern Metropolitan</td>\n",
       "      <td>4019</td>\n",
       "      <td>3.0</td>\n",
       "      <td>Yarra City Council</td>\n",
       "    </tr>\n",
       "    <tr>\n",
       "      <th>2</th>\n",
       "      <td>Abbotsford</td>\n",
       "      <td>119B Yarra St</td>\n",
       "      <td>3</td>\n",
       "      <td>h</td>\n",
       "      <td>1420000.0</td>\n",
       "      <td>S</td>\n",
       "      <td>Nelson</td>\n",
       "      <td>1/04/2017</td>\n",
       "      <td>3067</td>\n",
       "      <td>Northern Metropolitan</td>\n",
       "      <td>4019</td>\n",
       "      <td>3.0</td>\n",
       "      <td>Yarra City Council</td>\n",
       "    </tr>\n",
       "    <tr>\n",
       "      <th>3</th>\n",
       "      <td>Aberfeldie</td>\n",
       "      <td>68 Vida St</td>\n",
       "      <td>3</td>\n",
       "      <td>h</td>\n",
       "      <td>1515000.0</td>\n",
       "      <td>S</td>\n",
       "      <td>Barry</td>\n",
       "      <td>1/04/2017</td>\n",
       "      <td>3040</td>\n",
       "      <td>Western Metropolitan</td>\n",
       "      <td>1543</td>\n",
       "      <td>7.5</td>\n",
       "      <td>Moonee Valley City Council</td>\n",
       "    </tr>\n",
       "    <tr>\n",
       "      <th>4</th>\n",
       "      <td>Airport West</td>\n",
       "      <td>92 Clydesdale Rd</td>\n",
       "      <td>2</td>\n",
       "      <td>h</td>\n",
       "      <td>670000.0</td>\n",
       "      <td>S</td>\n",
       "      <td>Nelson</td>\n",
       "      <td>1/04/2017</td>\n",
       "      <td>3042</td>\n",
       "      <td>Western Metropolitan</td>\n",
       "      <td>3464</td>\n",
       "      <td>10.4</td>\n",
       "      <td>Moonee Valley City Council</td>\n",
       "    </tr>\n",
       "  </tbody>\n",
       "</table>\n",
       "</div>"
      ],
      "text/plain": [
       "         Suburb           Address  Rooms Type      Price Method   SellerG  \\\n",
       "0    Abbotsford     49 Lithgow St      3    h  1490000.0      S    Jellis   \n",
       "1    Abbotsford     59A Turner St      3    h  1220000.0      S  Marshall   \n",
       "2    Abbotsford     119B Yarra St      3    h  1420000.0      S    Nelson   \n",
       "3    Aberfeldie        68 Vida St      3    h  1515000.0      S     Barry   \n",
       "4  Airport West  92 Clydesdale Rd      2    h   670000.0      S    Nelson   \n",
       "\n",
       "        Date  Postcode             Regionname  Propertycount  Distance  \\\n",
       "0  1/04/2017      3067  Northern Metropolitan           4019       3.0   \n",
       "1  1/04/2017      3067  Northern Metropolitan           4019       3.0   \n",
       "2  1/04/2017      3067  Northern Metropolitan           4019       3.0   \n",
       "3  1/04/2017      3040   Western Metropolitan           1543       7.5   \n",
       "4  1/04/2017      3042   Western Metropolitan           3464      10.4   \n",
       "\n",
       "                  CouncilArea  \n",
       "0          Yarra City Council  \n",
       "1          Yarra City Council  \n",
       "2          Yarra City Council  \n",
       "3  Moonee Valley City Council  \n",
       "4  Moonee Valley City Council  "
      ]
     },
     "execution_count": 52,
     "metadata": {},
     "output_type": "execute_result"
    }
   ],
   "source": [
    "df = pd.read_csv(\"MELBOURNE_HOUSE_PRICES_LESS.csv\")\n",
    "df.head()"
   ]
  },
  {
   "cell_type": "markdown",
   "metadata": {},
   "source": [
    "### 2b. Examine data"
   ]
  },
  {
   "cell_type": "code",
   "execution_count": 53,
   "metadata": {},
   "outputs": [
    {
     "data": {
      "text/plain": [
       "(63023, 13)"
      ]
     },
     "execution_count": 53,
     "metadata": {},
     "output_type": "execute_result"
    }
   ],
   "source": [
    "df.shape"
   ]
  },
  {
   "cell_type": "markdown",
   "metadata": {},
   "source": [
    "Trong khi dữ liệu có 63.023 observations và 13 features"
   ]
  },
  {
   "cell_type": "code",
   "execution_count": 54,
   "metadata": {},
   "outputs": [
    {
     "data": {
      "text/html": [
       "<div>\n",
       "<style scoped>\n",
       "    .dataframe tbody tr th:only-of-type {\n",
       "        vertical-align: middle;\n",
       "    }\n",
       "\n",
       "    .dataframe tbody tr th {\n",
       "        vertical-align: top;\n",
       "    }\n",
       "\n",
       "    .dataframe thead th {\n",
       "        text-align: right;\n",
       "    }\n",
       "</style>\n",
       "<table border=\"1\" class=\"dataframe\">\n",
       "  <thead>\n",
       "    <tr style=\"text-align: right;\">\n",
       "      <th></th>\n",
       "      <th>Rooms</th>\n",
       "      <th>Price</th>\n",
       "      <th>Postcode</th>\n",
       "      <th>Propertycount</th>\n",
       "      <th>Distance</th>\n",
       "    </tr>\n",
       "  </thead>\n",
       "  <tbody>\n",
       "    <tr>\n",
       "      <th>count</th>\n",
       "      <td>63023.000000</td>\n",
       "      <td>4.843300e+04</td>\n",
       "      <td>63023.000000</td>\n",
       "      <td>63023.000000</td>\n",
       "      <td>63023.000000</td>\n",
       "    </tr>\n",
       "    <tr>\n",
       "      <th>mean</th>\n",
       "      <td>3.110595</td>\n",
       "      <td>9.978982e+05</td>\n",
       "      <td>3125.673897</td>\n",
       "      <td>7617.728131</td>\n",
       "      <td>12.684829</td>\n",
       "    </tr>\n",
       "    <tr>\n",
       "      <th>std</th>\n",
       "      <td>0.957551</td>\n",
       "      <td>5.934989e+05</td>\n",
       "      <td>125.626877</td>\n",
       "      <td>4424.423167</td>\n",
       "      <td>7.592015</td>\n",
       "    </tr>\n",
       "    <tr>\n",
       "      <th>min</th>\n",
       "      <td>1.000000</td>\n",
       "      <td>8.500000e+04</td>\n",
       "      <td>3000.000000</td>\n",
       "      <td>39.000000</td>\n",
       "      <td>0.000000</td>\n",
       "    </tr>\n",
       "    <tr>\n",
       "      <th>25%</th>\n",
       "      <td>3.000000</td>\n",
       "      <td>6.200000e+05</td>\n",
       "      <td>3056.000000</td>\n",
       "      <td>4380.000000</td>\n",
       "      <td>7.000000</td>\n",
       "    </tr>\n",
       "    <tr>\n",
       "      <th>50%</th>\n",
       "      <td>3.000000</td>\n",
       "      <td>8.300000e+05</td>\n",
       "      <td>3107.000000</td>\n",
       "      <td>6795.000000</td>\n",
       "      <td>11.400000</td>\n",
       "    </tr>\n",
       "    <tr>\n",
       "      <th>75%</th>\n",
       "      <td>4.000000</td>\n",
       "      <td>1.220000e+06</td>\n",
       "      <td>3163.000000</td>\n",
       "      <td>10412.000000</td>\n",
       "      <td>16.700000</td>\n",
       "    </tr>\n",
       "    <tr>\n",
       "      <th>max</th>\n",
       "      <td>31.000000</td>\n",
       "      <td>1.120000e+07</td>\n",
       "      <td>3980.000000</td>\n",
       "      <td>21650.000000</td>\n",
       "      <td>64.100000</td>\n",
       "    </tr>\n",
       "  </tbody>\n",
       "</table>\n",
       "</div>"
      ],
      "text/plain": [
       "              Rooms         Price      Postcode  Propertycount      Distance\n",
       "count  63023.000000  4.843300e+04  63023.000000   63023.000000  63023.000000\n",
       "mean       3.110595  9.978982e+05   3125.673897    7617.728131     12.684829\n",
       "std        0.957551  5.934989e+05    125.626877    4424.423167      7.592015\n",
       "min        1.000000  8.500000e+04   3000.000000      39.000000      0.000000\n",
       "25%        3.000000  6.200000e+05   3056.000000    4380.000000      7.000000\n",
       "50%        3.000000  8.300000e+05   3107.000000    6795.000000     11.400000\n",
       "75%        4.000000  1.220000e+06   3163.000000   10412.000000     16.700000\n",
       "max       31.000000  1.120000e+07   3980.000000   21650.000000     64.100000"
      ]
     },
     "execution_count": 54,
     "metadata": {},
     "output_type": "execute_result"
    }
   ],
   "source": [
    "df.describe()"
   ]
  },
  {
   "cell_type": "markdown",
   "metadata": {},
   "source": [
    "Hàng **count** thể hiện số dòng không bị missing value.<br>\n",
    "Missing value có thể do nhiều lý do, chẳng hạn nhà có 2 phòng ngủ thì sẽ không thể thu thập được khi khảo sát nhà có 1 phòng ngủ.<br>\n",
    "Hàng **mean** để đo độ trung bình, còn **std** là độ lệch chuẩn đo lường độ trải dài của dữ liệu.<br>\n",
    "Diễn dịch min, 25%, 50%, 75%, max để chỉ ra số giá trị ở vị trí thấp nhất, mức 25%, 50%, 75%, cao nhất."
   ]
  },
  {
   "cell_type": "code",
   "execution_count": 55,
   "metadata": {},
   "outputs": [
    {
     "data": {
      "text/html": [
       "<div>\n",
       "<style scoped>\n",
       "    .dataframe tbody tr th:only-of-type {\n",
       "        vertical-align: middle;\n",
       "    }\n",
       "\n",
       "    .dataframe tbody tr th {\n",
       "        vertical-align: top;\n",
       "    }\n",
       "\n",
       "    .dataframe thead th {\n",
       "        text-align: right;\n",
       "    }\n",
       "</style>\n",
       "<table border=\"1\" class=\"dataframe\">\n",
       "  <thead>\n",
       "    <tr style=\"text-align: right;\">\n",
       "      <th></th>\n",
       "      <th>Suburb</th>\n",
       "      <th>Address</th>\n",
       "      <th>Type</th>\n",
       "      <th>Method</th>\n",
       "      <th>SellerG</th>\n",
       "      <th>Date</th>\n",
       "      <th>Regionname</th>\n",
       "      <th>CouncilArea</th>\n",
       "    </tr>\n",
       "  </thead>\n",
       "  <tbody>\n",
       "    <tr>\n",
       "      <th>count</th>\n",
       "      <td>63023</td>\n",
       "      <td>63023</td>\n",
       "      <td>63023</td>\n",
       "      <td>63023</td>\n",
       "      <td>63023</td>\n",
       "      <td>63023</td>\n",
       "      <td>63023</td>\n",
       "      <td>63023</td>\n",
       "    </tr>\n",
       "    <tr>\n",
       "      <th>unique</th>\n",
       "      <td>380</td>\n",
       "      <td>57754</td>\n",
       "      <td>3</td>\n",
       "      <td>9</td>\n",
       "      <td>476</td>\n",
       "      <td>112</td>\n",
       "      <td>8</td>\n",
       "      <td>34</td>\n",
       "    </tr>\n",
       "    <tr>\n",
       "      <th>top</th>\n",
       "      <td>Reservoir</td>\n",
       "      <td>3 Donald St</td>\n",
       "      <td>h</td>\n",
       "      <td>S</td>\n",
       "      <td>Barry</td>\n",
       "      <td>24/03/2018</td>\n",
       "      <td>Southern Metropolitan</td>\n",
       "      <td>Boroondara City Council</td>\n",
       "    </tr>\n",
       "    <tr>\n",
       "      <th>freq</th>\n",
       "      <td>1241</td>\n",
       "      <td>7</td>\n",
       "      <td>45053</td>\n",
       "      <td>34063</td>\n",
       "      <td>6894</td>\n",
       "      <td>1144</td>\n",
       "      <td>17559</td>\n",
       "      <td>5132</td>\n",
       "    </tr>\n",
       "  </tbody>\n",
       "</table>\n",
       "</div>"
      ],
      "text/plain": [
       "           Suburb      Address   Type Method SellerG        Date  \\\n",
       "count       63023        63023  63023  63023   63023       63023   \n",
       "unique        380        57754      3      9     476         112   \n",
       "top     Reservoir  3 Donald St      h      S   Barry  24/03/2018   \n",
       "freq         1241            7  45053  34063    6894        1144   \n",
       "\n",
       "                   Regionname              CouncilArea  \n",
       "count                   63023                    63023  \n",
       "unique                      8                       34  \n",
       "top     Southern Metropolitan  Boroondara City Council  \n",
       "freq                    17559                     5132  "
      ]
     },
     "execution_count": 55,
     "metadata": {},
     "output_type": "execute_result"
    }
   ],
   "source": [
    "df.describe(include='O')"
   ]
  },
  {
   "cell_type": "markdown",
   "metadata": {},
   "source": [
    "### 2c. Checking and Handling Missing Values"
   ]
  },
  {
   "cell_type": "markdown",
   "metadata": {},
   "source": [
    "imputation, phan tich tung cot va thay the. Numerical for mean , category for frequently/unknown"
   ]
  },
  {
   "cell_type": "code",
   "execution_count": 56,
   "metadata": {},
   "outputs": [
    {
     "name": "stdout",
     "output_type": "stream",
     "text": [
      "Price    14590\n",
      "dtype: int64\n"
     ]
    }
   ],
   "source": [
    "# Check to see if there are any missing values in our data set\n",
    "missing_val_count_by_column = (df.isnull().sum())\n",
    "print(missing_val_count_by_column[missing_val_count_by_column > 0])"
   ]
  },
  {
   "cell_type": "markdown",
   "metadata": {},
   "source": [
    "Có **14.590 hàng** bị thiếu **price**"
   ]
  },
  {
   "cell_type": "code",
   "execution_count": 57,
   "metadata": {},
   "outputs": [
    {
     "data": {
      "text/plain": [
       "23.15"
      ]
     },
     "execution_count": 57,
     "metadata": {},
     "output_type": "execute_result"
    }
   ],
   "source": [
    "round(14590/63023*100, 2)"
   ]
  },
  {
   "cell_type": "markdown",
   "metadata": {},
   "source": [
    "Dữ liệu bị thiếu chiếm **23.15%**"
   ]
  },
  {
   "cell_type": "code",
   "execution_count": 58,
   "metadata": {},
   "outputs": [
    {
     "data": {
      "text/plain": [
       "997898.2414882415"
      ]
     },
     "execution_count": 58,
     "metadata": {},
     "output_type": "execute_result"
    }
   ],
   "source": [
    "df['Price'].mean()"
   ]
  },
  {
   "cell_type": "markdown",
   "metadata": {},
   "source": [
    "**Fix missing values**<br>\n",
    "Ý tưởng: \n",
    "- Tạo 1 bộ dữ liệu mới (new_data)\n",
    "- Tìm mean của Price feature\n",
    "- Fill mean thay cho các NA ở bộ dữ liệu mới đó\n",
    "- Check lại lần nữa"
   ]
  },
  {
   "cell_type": "code",
   "execution_count": 59,
   "metadata": {},
   "outputs": [
    {
     "name": "stdout",
     "output_type": "stream",
     "text": [
      "Series([], dtype: int64)\n"
     ]
    }
   ],
   "source": [
    "new_data = df.copy() # shallow copy\n",
    "n = df['Price'].mean()\n",
    "new_data['Price'] = new_data['Price'].fillna(value=n)\n",
    "missing_val_count_by_column = (new_data.isnull().sum()) # Check again\n",
    "print(missing_val_count_by_column[missing_val_count_by_column > 0])"
   ]
  },
  {
   "cell_type": "markdown",
   "metadata": {},
   "source": [
    "Dữ liệu giờ hết missing values!"
   ]
  },
  {
   "cell_type": "markdown",
   "metadata": {},
   "source": [
    "**Kiểm tra độ tin cậy của dữ liệu**"
   ]
  },
  {
   "cell_type": "code",
   "execution_count": 60,
   "metadata": {},
   "outputs": [
    {
     "data": {
      "text/html": [
       "<div>\n",
       "<style scoped>\n",
       "    .dataframe tbody tr th:only-of-type {\n",
       "        vertical-align: middle;\n",
       "    }\n",
       "\n",
       "    .dataframe tbody tr th {\n",
       "        vertical-align: top;\n",
       "    }\n",
       "\n",
       "    .dataframe thead th {\n",
       "        text-align: right;\n",
       "    }\n",
       "</style>\n",
       "<table border=\"1\" class=\"dataframe\">\n",
       "  <thead>\n",
       "    <tr style=\"text-align: right;\">\n",
       "      <th></th>\n",
       "      <th>Rooms</th>\n",
       "      <th>Price</th>\n",
       "      <th>Postcode</th>\n",
       "      <th>Propertycount</th>\n",
       "      <th>Distance</th>\n",
       "    </tr>\n",
       "  </thead>\n",
       "  <tbody>\n",
       "    <tr>\n",
       "      <th>count</th>\n",
       "      <td>63023.000000</td>\n",
       "      <td>6.302300e+04</td>\n",
       "      <td>63023.000000</td>\n",
       "      <td>63023.000000</td>\n",
       "      <td>63023.000000</td>\n",
       "    </tr>\n",
       "    <tr>\n",
       "      <th>mean</th>\n",
       "      <td>3.110595</td>\n",
       "      <td>9.978982e+05</td>\n",
       "      <td>3125.673897</td>\n",
       "      <td>7617.728131</td>\n",
       "      <td>12.684829</td>\n",
       "    </tr>\n",
       "    <tr>\n",
       "      <th>std</th>\n",
       "      <td>0.957551</td>\n",
       "      <td>5.202835e+05</td>\n",
       "      <td>125.626877</td>\n",
       "      <td>4424.423167</td>\n",
       "      <td>7.592015</td>\n",
       "    </tr>\n",
       "    <tr>\n",
       "      <th>min</th>\n",
       "      <td>1.000000</td>\n",
       "      <td>8.500000e+04</td>\n",
       "      <td>3000.000000</td>\n",
       "      <td>39.000000</td>\n",
       "      <td>0.000000</td>\n",
       "    </tr>\n",
       "    <tr>\n",
       "      <th>25%</th>\n",
       "      <td>3.000000</td>\n",
       "      <td>6.770000e+05</td>\n",
       "      <td>3056.000000</td>\n",
       "      <td>4380.000000</td>\n",
       "      <td>7.000000</td>\n",
       "    </tr>\n",
       "    <tr>\n",
       "      <th>50%</th>\n",
       "      <td>3.000000</td>\n",
       "      <td>9.978982e+05</td>\n",
       "      <td>3107.000000</td>\n",
       "      <td>6795.000000</td>\n",
       "      <td>11.400000</td>\n",
       "    </tr>\n",
       "    <tr>\n",
       "      <th>75%</th>\n",
       "      <td>4.000000</td>\n",
       "      <td>1.065000e+06</td>\n",
       "      <td>3163.000000</td>\n",
       "      <td>10412.000000</td>\n",
       "      <td>16.700000</td>\n",
       "    </tr>\n",
       "    <tr>\n",
       "      <th>85%</th>\n",
       "      <td>4.000000</td>\n",
       "      <td>1.336850e+06</td>\n",
       "      <td>3187.000000</td>\n",
       "      <td>11918.000000</td>\n",
       "      <td>20.000000</td>\n",
       "    </tr>\n",
       "    <tr>\n",
       "      <th>90%</th>\n",
       "      <td>4.000000</td>\n",
       "      <td>1.550000e+06</td>\n",
       "      <td>3194.000000</td>\n",
       "      <td>14577.000000</td>\n",
       "      <td>21.500000</td>\n",
       "    </tr>\n",
       "    <tr>\n",
       "      <th>99%</th>\n",
       "      <td>5.000000</td>\n",
       "      <td>3.000000e+06</td>\n",
       "      <td>3756.000000</td>\n",
       "      <td>21650.000000</td>\n",
       "      <td>38.000000</td>\n",
       "    </tr>\n",
       "    <tr>\n",
       "      <th>max</th>\n",
       "      <td>31.000000</td>\n",
       "      <td>1.120000e+07</td>\n",
       "      <td>3980.000000</td>\n",
       "      <td>21650.000000</td>\n",
       "      <td>64.100000</td>\n",
       "    </tr>\n",
       "  </tbody>\n",
       "</table>\n",
       "</div>"
      ],
      "text/plain": [
       "              Rooms         Price      Postcode  Propertycount      Distance\n",
       "count  63023.000000  6.302300e+04  63023.000000   63023.000000  63023.000000\n",
       "mean       3.110595  9.978982e+05   3125.673897    7617.728131     12.684829\n",
       "std        0.957551  5.202835e+05    125.626877    4424.423167      7.592015\n",
       "min        1.000000  8.500000e+04   3000.000000      39.000000      0.000000\n",
       "25%        3.000000  6.770000e+05   3056.000000    4380.000000      7.000000\n",
       "50%        3.000000  9.978982e+05   3107.000000    6795.000000     11.400000\n",
       "75%        4.000000  1.065000e+06   3163.000000   10412.000000     16.700000\n",
       "85%        4.000000  1.336850e+06   3187.000000   11918.000000     20.000000\n",
       "90%        4.000000  1.550000e+06   3194.000000   14577.000000     21.500000\n",
       "99%        5.000000  3.000000e+06   3756.000000   21650.000000     38.000000\n",
       "max       31.000000  1.120000e+07   3980.000000   21650.000000     64.100000"
      ]
     },
     "execution_count": 60,
     "metadata": {},
     "output_type": "execute_result"
    }
   ],
   "source": [
    "new_data.describe(percentiles=[.25, .5, .75, .85, .90, .99])"
   ]
  },
  {
   "cell_type": "markdown",
   "metadata": {},
   "source": [
    "Ta có dữ liệu mới với giá nhà trung bình 9.978982e+05, 3 phòng, khoảng cách là 12.68 km, Propertycount là 7617.72<br>\n",
    "Trong đó ta thấy một điều đáng chú ý, là có căn có đến **31** phòng. Dù ở mức 99% là 5 phòng."
   ]
  },
  {
   "cell_type": "code",
   "execution_count": 61,
   "metadata": {},
   "outputs": [
    {
     "data": {
      "text/html": [
       "<div>\n",
       "<style scoped>\n",
       "    .dataframe tbody tr th:only-of-type {\n",
       "        vertical-align: middle;\n",
       "    }\n",
       "\n",
       "    .dataframe tbody tr th {\n",
       "        vertical-align: top;\n",
       "    }\n",
       "\n",
       "    .dataframe thead th {\n",
       "        text-align: right;\n",
       "    }\n",
       "</style>\n",
       "<table border=\"1\" class=\"dataframe\">\n",
       "  <thead>\n",
       "    <tr style=\"text-align: right;\">\n",
       "      <th></th>\n",
       "      <th>Suburb</th>\n",
       "      <th>Address</th>\n",
       "      <th>Rooms</th>\n",
       "      <th>Type</th>\n",
       "      <th>Price</th>\n",
       "      <th>Method</th>\n",
       "      <th>SellerG</th>\n",
       "      <th>Date</th>\n",
       "      <th>Postcode</th>\n",
       "      <th>Regionname</th>\n",
       "      <th>Propertycount</th>\n",
       "      <th>Distance</th>\n",
       "      <th>CouncilArea</th>\n",
       "    </tr>\n",
       "  </thead>\n",
       "  <tbody>\n",
       "    <tr>\n",
       "      <th>55467</th>\n",
       "      <td>Wantirna South</td>\n",
       "      <td>5 Cottswold Pl</td>\n",
       "      <td>31</td>\n",
       "      <td>h</td>\n",
       "      <td>990000.0</td>\n",
       "      <td>S</td>\n",
       "      <td>Justin</td>\n",
       "      <td>27/06/2016</td>\n",
       "      <td>3152</td>\n",
       "      <td>Eastern Metropolitan</td>\n",
       "      <td>7082</td>\n",
       "      <td>14.7</td>\n",
       "      <td>Knox City Council</td>\n",
       "    </tr>\n",
       "  </tbody>\n",
       "</table>\n",
       "</div>"
      ],
      "text/plain": [
       "               Suburb         Address  Rooms Type     Price Method SellerG  \\\n",
       "55467  Wantirna South  5 Cottswold Pl     31    h  990000.0      S  Justin   \n",
       "\n",
       "             Date  Postcode            Regionname  Propertycount  Distance  \\\n",
       "55467  27/06/2016      3152  Eastern Metropolitan           7082      14.7   \n",
       "\n",
       "             CouncilArea  \n",
       "55467  Knox City Council  "
      ]
     },
     "execution_count": 61,
     "metadata": {},
     "output_type": "execute_result"
    }
   ],
   "source": [
    "new_data[new_data['Rooms'] >= 31]"
   ]
  },
  {
   "cell_type": "markdown",
   "metadata": {},
   "source": [
    "Ta thấy cái căn này có 31 phòng có giá thấp hơn mức trung bình, khoảng cách và Propertycount tương đương. Nên đây là dữ liệu sai lệch.<br>\n",
    "Vì thế ta sẽ drop row này đi."
   ]
  },
  {
   "cell_type": "code",
   "execution_count": 62,
   "metadata": {},
   "outputs": [
    {
     "data": {
      "text/html": [
       "<div>\n",
       "<style scoped>\n",
       "    .dataframe tbody tr th:only-of-type {\n",
       "        vertical-align: middle;\n",
       "    }\n",
       "\n",
       "    .dataframe tbody tr th {\n",
       "        vertical-align: top;\n",
       "    }\n",
       "\n",
       "    .dataframe thead th {\n",
       "        text-align: right;\n",
       "    }\n",
       "</style>\n",
       "<table border=\"1\" class=\"dataframe\">\n",
       "  <thead>\n",
       "    <tr style=\"text-align: right;\">\n",
       "      <th></th>\n",
       "      <th>Rooms</th>\n",
       "      <th>Price</th>\n",
       "      <th>Postcode</th>\n",
       "      <th>Propertycount</th>\n",
       "      <th>Distance</th>\n",
       "    </tr>\n",
       "  </thead>\n",
       "  <tbody>\n",
       "    <tr>\n",
       "      <th>count</th>\n",
       "      <td>63022.000000</td>\n",
       "      <td>6.302200e+04</td>\n",
       "      <td>63022.000000</td>\n",
       "      <td>63022.000000</td>\n",
       "      <td>63022.000000</td>\n",
       "    </tr>\n",
       "    <tr>\n",
       "      <th>mean</th>\n",
       "      <td>3.110152</td>\n",
       "      <td>9.978984e+05</td>\n",
       "      <td>3125.673479</td>\n",
       "      <td>7617.736632</td>\n",
       "      <td>12.684797</td>\n",
       "    </tr>\n",
       "    <tr>\n",
       "      <th>std</th>\n",
       "      <td>0.951092</td>\n",
       "      <td>5.202876e+05</td>\n",
       "      <td>125.627830</td>\n",
       "      <td>4424.457755</td>\n",
       "      <td>7.592071</td>\n",
       "    </tr>\n",
       "    <tr>\n",
       "      <th>min</th>\n",
       "      <td>1.000000</td>\n",
       "      <td>8.500000e+04</td>\n",
       "      <td>3000.000000</td>\n",
       "      <td>39.000000</td>\n",
       "      <td>0.000000</td>\n",
       "    </tr>\n",
       "    <tr>\n",
       "      <th>25%</th>\n",
       "      <td>3.000000</td>\n",
       "      <td>6.770000e+05</td>\n",
       "      <td>3056.000000</td>\n",
       "      <td>4380.000000</td>\n",
       "      <td>7.000000</td>\n",
       "    </tr>\n",
       "    <tr>\n",
       "      <th>50%</th>\n",
       "      <td>3.000000</td>\n",
       "      <td>9.978982e+05</td>\n",
       "      <td>3107.000000</td>\n",
       "      <td>6795.000000</td>\n",
       "      <td>11.400000</td>\n",
       "    </tr>\n",
       "    <tr>\n",
       "      <th>75%</th>\n",
       "      <td>4.000000</td>\n",
       "      <td>1.065000e+06</td>\n",
       "      <td>3163.000000</td>\n",
       "      <td>10412.000000</td>\n",
       "      <td>16.700000</td>\n",
       "    </tr>\n",
       "    <tr>\n",
       "      <th>max</th>\n",
       "      <td>16.000000</td>\n",
       "      <td>1.120000e+07</td>\n",
       "      <td>3980.000000</td>\n",
       "      <td>21650.000000</td>\n",
       "      <td>64.100000</td>\n",
       "    </tr>\n",
       "  </tbody>\n",
       "</table>\n",
       "</div>"
      ],
      "text/plain": [
       "              Rooms         Price      Postcode  Propertycount      Distance\n",
       "count  63022.000000  6.302200e+04  63022.000000   63022.000000  63022.000000\n",
       "mean       3.110152  9.978984e+05   3125.673479    7617.736632     12.684797\n",
       "std        0.951092  5.202876e+05    125.627830    4424.457755      7.592071\n",
       "min        1.000000  8.500000e+04   3000.000000      39.000000      0.000000\n",
       "25%        3.000000  6.770000e+05   3056.000000    4380.000000      7.000000\n",
       "50%        3.000000  9.978982e+05   3107.000000    6795.000000     11.400000\n",
       "75%        4.000000  1.065000e+06   3163.000000   10412.000000     16.700000\n",
       "max       16.000000  1.120000e+07   3980.000000   21650.000000     64.100000"
      ]
     },
     "execution_count": 62,
     "metadata": {},
     "output_type": "execute_result"
    }
   ],
   "source": [
    "new_data= new_data.drop([55467], axis=0)\n",
    "new_data.describe()"
   ]
  },
  {
   "cell_type": "markdown",
   "metadata": {},
   "source": [
    "**Price visualization**"
   ]
  },
  {
   "cell_type": "markdown",
   "metadata": {},
   "source": [
    "Biểu đồ theo giá tiền, số phòng và loại nhà"
   ]
  },
  {
   "cell_type": "code",
   "execution_count": 63,
   "metadata": {},
   "outputs": [
    {
     "data": {
      "text/plain": [
       "<seaborn.axisgrid.FacetGrid at 0x14b6b59f2e8>"
      ]
     },
     "execution_count": 63,
     "metadata": {},
     "output_type": "execute_result"
    },
    {
     "data": {
      "image/png": "[encoded data removed]",
      "text/plain": [
       "<Figure size 360x360 with 1 Axes>"
      ]
     },
     "metadata": {
      "needs_background": "light"
     },
     "output_type": "display_data"
    }
   ],
   "source": [
    "sns.lmplot(x='Price', y='Rooms', data=new_data,\n",
    "          fit_reg=False) # No regression line\n",
    "          #hue='Type')   # Color by evolution stage)"
   ]
  },
  {
   "cell_type": "markdown",
   "metadata": {},
   "source": [
    "Với h: house , t: townhouse, u: unit"
   ]
  },
  {
   "cell_type": "markdown",
   "metadata": {},
   "source": [
    "Không phải nhà nào càng nhiều phòng thì giá cũng cao"
   ]
  },
  {
   "cell_type": "code",
   "execution_count": 64,
   "metadata": {},
   "outputs": [
    {
     "data": {
      "text/plain": [
       "<matplotlib.axes._subplots.AxesSubplot at 0x14b6b8605f8>"
      ]
     },
     "execution_count": 64,
     "metadata": {},
     "output_type": "execute_result"
    },
    {
     "data": {
      "image/png": "[encoded data removed]",
      "text/plain": [
       "<Figure size 432x288 with 1 Axes>"
      ]
     },
     "metadata": {
      "needs_background": "light"
     },
     "output_type": "display_data"
    }
   ],
   "source": [
    "sns.boxplot(new_data['Price'])"
   ]
  },
  {
   "cell_type": "markdown",
   "metadata": {},
   "source": [
    "### 2d. Choosing \"Features\""
   ]
  },
  {
   "cell_type": "code",
   "execution_count": 65,
   "metadata": {},
   "outputs": [
    {
     "name": "stdout",
     "output_type": "stream",
     "text": [
      "<class 'pandas.core.frame.DataFrame'>\n",
      "Int64Index: 63022 entries, 0 to 63022\n",
      "Data columns (total 13 columns):\n",
      "Suburb           63022 non-null object\n",
      "Address          63022 non-null object\n",
      "Rooms            63022 non-null int64\n",
      "Type             63022 non-null object\n",
      "Price            63022 non-null float64\n",
      "Method           63022 non-null object\n",
      "SellerG          63022 non-null object\n",
      "Date             63022 non-null object\n",
      "Postcode         63022 non-null int64\n",
      "Regionname       63022 non-null object\n",
      "Propertycount    63022 non-null int64\n",
      "Distance         63022 non-null float64\n",
      "CouncilArea      63022 non-null object\n",
      "dtypes: float64(2), int64(3), object(8)\n",
      "memory usage: 6.7+ MB\n"
     ]
    }
   ],
   "source": [
    "new_data.info()"
   ]
  },
  {
   "cell_type": "markdown",
   "metadata": {},
   "source": [
    "Dữ liệu dạng category:\n",
    "- Suburb\n",
    "- Address\n",
    "- Type\n",
    "- Method\n",
    "- SellerG\n",
    "- Date\n",
    "- Regionname\n",
    "- CouncilArea\n",
    "- Postcode\n",
    "\n",
    "Còn lại là dữ liệu dạng số: Rooms, Price, Propertycount, Distance "
   ]
  },
  {
   "cell_type": "markdown",
   "metadata": {},
   "source": [
    "**Xem tính tương quan giữa các features dạng số**"
   ]
  },
  {
   "cell_type": "code",
   "execution_count": 66,
   "metadata": {},
   "outputs": [],
   "source": [
    "melbourne_features = ['Rooms', 'Price', 'Propertycount', 'Distance', 'Postcode']"
   ]
  },
  {
   "cell_type": "code",
   "execution_count": 67,
   "metadata": {},
   "outputs": [],
   "source": [
    "X = new_data[melbourne_features]"
   ]
  },
  {
   "cell_type": "code",
   "execution_count": 68,
   "metadata": {},
   "outputs": [
    {
     "data": {
      "text/html": [
       "<div>\n",
       "<style scoped>\n",
       "    .dataframe tbody tr th:only-of-type {\n",
       "        vertical-align: middle;\n",
       "    }\n",
       "\n",
       "    .dataframe tbody tr th {\n",
       "        vertical-align: top;\n",
       "    }\n",
       "\n",
       "    .dataframe thead th {\n",
       "        text-align: right;\n",
       "    }\n",
       "</style>\n",
       "<table border=\"1\" class=\"dataframe\">\n",
       "  <thead>\n",
       "    <tr style=\"text-align: right;\">\n",
       "      <th></th>\n",
       "      <th>Rooms</th>\n",
       "      <th>Price</th>\n",
       "      <th>Propertycount</th>\n",
       "      <th>Distance</th>\n",
       "      <th>Postcode</th>\n",
       "    </tr>\n",
       "  </thead>\n",
       "  <tbody>\n",
       "    <tr>\n",
       "      <th>count</th>\n",
       "      <td>63022.000000</td>\n",
       "      <td>6.302200e+04</td>\n",
       "      <td>63022.000000</td>\n",
       "      <td>63022.000000</td>\n",
       "      <td>63022.000000</td>\n",
       "    </tr>\n",
       "    <tr>\n",
       "      <th>mean</th>\n",
       "      <td>3.110152</td>\n",
       "      <td>9.978984e+05</td>\n",
       "      <td>7617.736632</td>\n",
       "      <td>12.684797</td>\n",
       "      <td>3125.673479</td>\n",
       "    </tr>\n",
       "    <tr>\n",
       "      <th>std</th>\n",
       "      <td>0.951092</td>\n",
       "      <td>5.202876e+05</td>\n",
       "      <td>4424.457755</td>\n",
       "      <td>7.592071</td>\n",
       "      <td>125.627830</td>\n",
       "    </tr>\n",
       "    <tr>\n",
       "      <th>min</th>\n",
       "      <td>1.000000</td>\n",
       "      <td>8.500000e+04</td>\n",
       "      <td>39.000000</td>\n",
       "      <td>0.000000</td>\n",
       "      <td>3000.000000</td>\n",
       "    </tr>\n",
       "    <tr>\n",
       "      <th>25%</th>\n",
       "      <td>3.000000</td>\n",
       "      <td>6.770000e+05</td>\n",
       "      <td>4380.000000</td>\n",
       "      <td>7.000000</td>\n",
       "      <td>3056.000000</td>\n",
       "    </tr>\n",
       "    <tr>\n",
       "      <th>50%</th>\n",
       "      <td>3.000000</td>\n",
       "      <td>9.978982e+05</td>\n",
       "      <td>6795.000000</td>\n",
       "      <td>11.400000</td>\n",
       "      <td>3107.000000</td>\n",
       "    </tr>\n",
       "    <tr>\n",
       "      <th>75%</th>\n",
       "      <td>4.000000</td>\n",
       "      <td>1.065000e+06</td>\n",
       "      <td>10412.000000</td>\n",
       "      <td>16.700000</td>\n",
       "      <td>3163.000000</td>\n",
       "    </tr>\n",
       "    <tr>\n",
       "      <th>max</th>\n",
       "      <td>16.000000</td>\n",
       "      <td>1.120000e+07</td>\n",
       "      <td>21650.000000</td>\n",
       "      <td>64.100000</td>\n",
       "      <td>3980.000000</td>\n",
       "    </tr>\n",
       "  </tbody>\n",
       "</table>\n",
       "</div>"
      ],
      "text/plain": [
       "              Rooms         Price  Propertycount      Distance      Postcode\n",
       "count  63022.000000  6.302200e+04   63022.000000  63022.000000  63022.000000\n",
       "mean       3.110152  9.978984e+05    7617.736632     12.684797   3125.673479\n",
       "std        0.951092  5.202876e+05    4424.457755      7.592071    125.627830\n",
       "min        1.000000  8.500000e+04      39.000000      0.000000   3000.000000\n",
       "25%        3.000000  6.770000e+05    4380.000000      7.000000   3056.000000\n",
       "50%        3.000000  9.978982e+05    6795.000000     11.400000   3107.000000\n",
       "75%        4.000000  1.065000e+06   10412.000000     16.700000   3163.000000\n",
       "max       16.000000  1.120000e+07   21650.000000     64.100000   3980.000000"
      ]
     },
     "execution_count": 68,
     "metadata": {},
     "output_type": "execute_result"
    }
   ],
   "source": [
    "X.describe()"
   ]
  },
  {
   "cell_type": "code",
   "execution_count": 69,
   "metadata": {
    "scrolled": true
   },
   "outputs": [
    {
     "data": {
      "text/html": [
       "<div>\n",
       "<style scoped>\n",
       "    .dataframe tbody tr th:only-of-type {\n",
       "        vertical-align: middle;\n",
       "    }\n",
       "\n",
       "    .dataframe tbody tr th {\n",
       "        vertical-align: top;\n",
       "    }\n",
       "\n",
       "    .dataframe thead th {\n",
       "        text-align: right;\n",
       "    }\n",
       "</style>\n",
       "<table border=\"1\" class=\"dataframe\">\n",
       "  <thead>\n",
       "    <tr style=\"text-align: right;\">\n",
       "      <th></th>\n",
       "      <th>Rooms</th>\n",
       "      <th>Price</th>\n",
       "      <th>Propertycount</th>\n",
       "      <th>Distance</th>\n",
       "      <th>Postcode</th>\n",
       "    </tr>\n",
       "  </thead>\n",
       "  <tbody>\n",
       "    <tr>\n",
       "      <th>Rooms</th>\n",
       "      <td>1.000000</td>\n",
       "      <td>0.359141</td>\n",
       "      <td>-0.049262</td>\n",
       "      <td>0.269990</td>\n",
       "      <td>0.094205</td>\n",
       "    </tr>\n",
       "    <tr>\n",
       "      <th>Price</th>\n",
       "      <td>0.359141</td>\n",
       "      <td>1.000000</td>\n",
       "      <td>-0.053670</td>\n",
       "      <td>-0.221145</td>\n",
       "      <td>0.002726</td>\n",
       "    </tr>\n",
       "    <tr>\n",
       "      <th>Propertycount</th>\n",
       "      <td>-0.049262</td>\n",
       "      <td>-0.053670</td>\n",
       "      <td>1.000000</td>\n",
       "      <td>0.014050</td>\n",
       "      <td>-0.002557</td>\n",
       "    </tr>\n",
       "    <tr>\n",
       "      <th>Distance</th>\n",
       "      <td>0.269990</td>\n",
       "      <td>-0.221145</td>\n",
       "      <td>0.014050</td>\n",
       "      <td>1.000000</td>\n",
       "      <td>0.500262</td>\n",
       "    </tr>\n",
       "    <tr>\n",
       "      <th>Postcode</th>\n",
       "      <td>0.094205</td>\n",
       "      <td>0.002726</td>\n",
       "      <td>-0.002557</td>\n",
       "      <td>0.500262</td>\n",
       "      <td>1.000000</td>\n",
       "    </tr>\n",
       "  </tbody>\n",
       "</table>\n",
       "</div>"
      ],
      "text/plain": [
       "                  Rooms     Price  Propertycount  Distance  Postcode\n",
       "Rooms          1.000000  0.359141      -0.049262  0.269990  0.094205\n",
       "Price          0.359141  1.000000      -0.053670 -0.221145  0.002726\n",
       "Propertycount -0.049262 -0.053670       1.000000  0.014050 -0.002557\n",
       "Distance       0.269990 -0.221145       0.014050  1.000000  0.500262\n",
       "Postcode       0.094205  0.002726      -0.002557  0.500262  1.000000"
      ]
     },
     "execution_count": 69,
     "metadata": {},
     "output_type": "execute_result"
    },
    {
     "data": {
      "image/png": "[encoded data removed]",
      "text/plain": [
       "<Figure size 432x288 with 2 Axes>"
      ]
     },
     "metadata": {
      "needs_background": "light"
     },
     "output_type": "display_data"
    }
   ],
   "source": [
    "corr = X.corr()\n",
    "corr = (corr)\n",
    "sns.heatmap(corr, \n",
    "            xticklabels=corr.columns.values,\n",
    "            yticklabels=corr.columns.values,\n",
    "           annot=True, fmt=\".2f\")\n",
    "\n",
    "corr"
   ]
  },
  {
   "cell_type": "markdown",
   "metadata": {},
   "source": [
    "Ta thấy độ tương quan của Propertycount rất thấp -> drop cột này đi<br>\n",
    "Còn những dữ liệu dạng category ở trên thì bỏ: Address, Postcode"
   ]
  },
  {
   "cell_type": "code",
   "execution_count": 70,
   "metadata": {},
   "outputs": [
    {
     "data": {
      "text/html": [
       "<div>\n",
       "<style scoped>\n",
       "    .dataframe tbody tr th:only-of-type {\n",
       "        vertical-align: middle;\n",
       "    }\n",
       "\n",
       "    .dataframe tbody tr th {\n",
       "        vertical-align: top;\n",
       "    }\n",
       "\n",
       "    .dataframe thead th {\n",
       "        text-align: right;\n",
       "    }\n",
       "</style>\n",
       "<table border=\"1\" class=\"dataframe\">\n",
       "  <thead>\n",
       "    <tr style=\"text-align: right;\">\n",
       "      <th></th>\n",
       "      <th>Rooms</th>\n",
       "      <th>Price</th>\n",
       "      <th>Distance</th>\n",
       "      <th>Postcode</th>\n",
       "    </tr>\n",
       "  </thead>\n",
       "  <tbody>\n",
       "    <tr>\n",
       "      <th>count</th>\n",
       "      <td>63022.000000</td>\n",
       "      <td>6.302200e+04</td>\n",
       "      <td>63022.000000</td>\n",
       "      <td>63022.000000</td>\n",
       "    </tr>\n",
       "    <tr>\n",
       "      <th>mean</th>\n",
       "      <td>3.110152</td>\n",
       "      <td>9.978984e+05</td>\n",
       "      <td>12.684797</td>\n",
       "      <td>3125.673479</td>\n",
       "    </tr>\n",
       "    <tr>\n",
       "      <th>std</th>\n",
       "      <td>0.951092</td>\n",
       "      <td>5.202876e+05</td>\n",
       "      <td>7.592071</td>\n",
       "      <td>125.627830</td>\n",
       "    </tr>\n",
       "    <tr>\n",
       "      <th>min</th>\n",
       "      <td>1.000000</td>\n",
       "      <td>8.500000e+04</td>\n",
       "      <td>0.000000</td>\n",
       "      <td>3000.000000</td>\n",
       "    </tr>\n",
       "    <tr>\n",
       "      <th>25%</th>\n",
       "      <td>3.000000</td>\n",
       "      <td>6.770000e+05</td>\n",
       "      <td>7.000000</td>\n",
       "      <td>3056.000000</td>\n",
       "    </tr>\n",
       "    <tr>\n",
       "      <th>50%</th>\n",
       "      <td>3.000000</td>\n",
       "      <td>9.978982e+05</td>\n",
       "      <td>11.400000</td>\n",
       "      <td>3107.000000</td>\n",
       "    </tr>\n",
       "    <tr>\n",
       "      <th>75%</th>\n",
       "      <td>4.000000</td>\n",
       "      <td>1.065000e+06</td>\n",
       "      <td>16.700000</td>\n",
       "      <td>3163.000000</td>\n",
       "    </tr>\n",
       "    <tr>\n",
       "      <th>max</th>\n",
       "      <td>16.000000</td>\n",
       "      <td>1.120000e+07</td>\n",
       "      <td>64.100000</td>\n",
       "      <td>3980.000000</td>\n",
       "    </tr>\n",
       "  </tbody>\n",
       "</table>\n",
       "</div>"
      ],
      "text/plain": [
       "              Rooms         Price      Distance      Postcode\n",
       "count  63022.000000  6.302200e+04  63022.000000  63022.000000\n",
       "mean       3.110152  9.978984e+05     12.684797   3125.673479\n",
       "std        0.951092  5.202876e+05      7.592071    125.627830\n",
       "min        1.000000  8.500000e+04      0.000000   3000.000000\n",
       "25%        3.000000  6.770000e+05      7.000000   3056.000000\n",
       "50%        3.000000  9.978982e+05     11.400000   3107.000000\n",
       "75%        4.000000  1.065000e+06     16.700000   3163.000000\n",
       "max       16.000000  1.120000e+07     64.100000   3980.000000"
      ]
     },
     "execution_count": 70,
     "metadata": {},
     "output_type": "execute_result"
    }
   ],
   "source": [
    "data_after_chose = new_data[['Rooms', 'Price', 'Distance', 'Postcode']]\n",
    "data_after_chose.describe()"
   ]
  },
  {
   "cell_type": "markdown",
   "metadata": {},
   "source": [
    "## III. Apply the model for prediction with holdout and cross validation"
   ]
  },
  {
   "cell_type": "code",
   "execution_count": 71,
   "metadata": {},
   "outputs": [],
   "source": [
    "# Columns to use for trainning\n",
    "X = data_after_chose.drop(['Price'], axis=1)\n",
    "# Column target\n",
    "y = data_after_chose['Price']"
   ]
  },
  {
   "cell_type": "markdown",
   "metadata": {},
   "source": [
    "**Holdout**"
   ]
  },
  {
   "cell_type": "code",
   "execution_count": 22,
   "metadata": {},
   "outputs": [],
   "source": [
    "from sklearn.linear_model import LinearRegression\n",
    "from sklearn.model_selection import train_test_split"
   ]
  },
  {
   "cell_type": "code",
   "execution_count": 72,
   "metadata": {},
   "outputs": [],
   "source": [
    "X_train, X_test, y_train, y_test = train_test_split(X, y, test_size=0.2, random_state=42)"
   ]
  },
  {
   "cell_type": "code",
   "execution_count": 24,
   "metadata": {},
   "outputs": [],
   "source": [
    "model = LinearRegression()"
   ]
  },
  {
   "cell_type": "code",
   "execution_count": 25,
   "metadata": {},
   "outputs": [
    {
     "data": {
      "text/plain": [
       "LinearRegression(copy_X=True, fit_intercept=True, n_jobs=None, normalize=False)"
      ]
     },
     "execution_count": 25,
     "metadata": {},
     "output_type": "execute_result"
    }
   ],
   "source": [
    "model.fit(X_train, y_train)"
   ]
  },
  {
   "cell_type": "code",
   "execution_count": 26,
   "metadata": {},
   "outputs": [],
   "source": [
    "y_pred = model.predict(X_test)"
   ]
  },
  {
   "cell_type": "markdown",
   "metadata": {},
   "source": [
    "**Residual plot**"
   ]
  },
  {
   "cell_type": "code",
   "execution_count": 28,
   "metadata": {},
   "outputs": [
    {
     "data": {
      "text/plain": [
       "<matplotlib.axes._subplots.AxesSubplot at 0x14b695b05f8>"
      ]
     },
     "execution_count": 28,
     "metadata": {},
     "output_type": "execute_result"
    },
    {
     "data": {
      "image/png": "[encoded data removed]",
      "text/plain": [
       "<Figure size 432x288 with 1 Axes>"
      ]
     },
     "metadata": {
      "needs_background": "light"
     },
     "output_type": "display_data"
    }
   ],
   "source": [
    "#Residual plot\n",
    "plt.title('Residual plot')\n",
    "plt.ylabel('Residual')\n",
    "sns.residplot(y_pred, y_pred - y_test)"
   ]
  },
  {
   "cell_type": "code",
   "execution_count": 30,
   "metadata": {},
   "outputs": [
    {
     "data": {
      "text/plain": [
       "299850.57900882367"
      ]
     },
     "execution_count": 30,
     "metadata": {},
     "output_type": "execute_result"
    }
   ],
   "source": [
    "from sklearn.metrics import mean_absolute_error\n",
    "mean_absolute_error(y_test, y_pred)"
   ]
  },
  {
   "cell_type": "markdown",
   "metadata": {},
   "source": [
    "**MAE** khi dùng holdout là **299850.57**"
   ]
  },
  {
   "cell_type": "markdown",
   "metadata": {},
   "source": [
    "**Cross validation**"
   ]
  },
  {
   "cell_type": "markdown",
   "metadata": {},
   "source": [
    "<img src=\"https://i.stack.imgur.com/1fXzJ.png\" alt=\"Alt text that describes the graphic\" title=\"Title text\" />"
   ]
  },
  {
   "cell_type": "markdown",
   "metadata": {},
   "source": [
    "Chúng ta chạy model qua những subset để lấy được sự đo lường chất lượng của model trong nhiều lần. Với K-folds = 5, chúng ta chia dữ liệu làm 5 mảnh, mỗi mảnh ứng với 20% của toàn bộ dữ liệu."
   ]
  },
  {
   "cell_type": "markdown",
   "metadata": {},
   "source": [
    "Chọn model LinearRegression, đo lường độ hiệu quả bằng **MAE** mean absolute error, và dùng cross validation."
   ]
  },
  {
   "cell_type": "code",
   "execution_count": 33,
   "metadata": {},
   "outputs": [],
   "source": [
    "from sklearn.linear_model import LinearRegression\n",
    "from sklearn.metrics import mean_absolute_error\n",
    "from sklearn.model_selection import KFold, cross_val_score\n",
    "from time import perf_counter"
   ]
  },
  {
   "cell_type": "code",
   "execution_count": 38,
   "metadata": {},
   "outputs": [
    {
     "name": "stdout",
     "output_type": "stream",
     "text": [
      "MAE scores: 299620.1651022321\n",
      "Chạy mất 0.0417 giây.\n"
     ]
    }
   ],
   "source": [
    "t0 = perf_counter()\n",
    "kfold = KFold(n_splits=5)\n",
    "scores = cross_val_score(LinearRegression(), X, y, scoring='neg_mean_absolute_error', cv=kfold)\n",
    "t1 = perf_counter()\n",
    "print(\"MAE scores:\", scores.mean()*(-1))\n",
    "print(\"Chạy mất {0:.4f} giây.\".format(t1-t0))"
   ]
  },
  {
   "cell_type": "markdown",
   "metadata": {},
   "source": [
    "Scikit-learn có quy ước, các đo lường (metrics) được định ra thì con số nào cao hơn thì tốt hơn. Sử dụng negative (âm) ở đây cho nhất quán với cái quy ước mặc dù **MAE** thì không có số âm.<br>\n",
    "Khi ta đã trung bình scores và đổi về **số dương** thì lúc này cái nào thấp hơn thì mô hình đó tốt hơn."
   ]
  },
  {
   "cell_type": "markdown",
   "metadata": {},
   "source": [
    "Giá nhà ở mức _trung bình_ là **1 triệu đô**, và phần sai số tuyệt đối trung bình là **300.000**. Ta thấy kết quả hợp lý trong thực tế."
   ]
  },
  {
   "cell_type": "markdown",
   "metadata": {},
   "source": [
    "kết luận:\n",
    "- MAE khi holdout **299850.57** và MAE khi cross validation là **299620.16**\n",
    "- 2 kết quả này không đồng nhất với nhau. Chứng tỏ trên các subset khác nhau thì đưa ra các kết quả khác nhau.\n",
    "- Vì ở cross validation dùng kfold với 5 folds nên kết quả ở phần này đáng tin cậy hơn"
   ]
  },
  {
   "cell_type": "markdown",
   "metadata": {},
   "source": [
    "## IV. Using PCA, apply the model with holdout and cross validation"
   ]
  },
  {
   "cell_type": "markdown",
   "metadata": {},
   "source": [
    "**PCA**"
   ]
  },
  {
   "cell_type": "code",
   "execution_count": 41,
   "metadata": {},
   "outputs": [],
   "source": [
    "from sklearn.decomposition import PCA"
   ]
  },
  {
   "cell_type": "code",
   "execution_count": 42,
   "metadata": {},
   "outputs": [],
   "source": [
    "pca = PCA(n_components=3)\n",
    "pca.fit(X)\n",
    "new_X = pca.transform(X)"
   ]
  },
  {
   "cell_type": "markdown",
   "metadata": {},
   "source": [
    "**Holdout**"
   ]
  },
  {
   "cell_type": "code",
   "execution_count": 43,
   "metadata": {},
   "outputs": [],
   "source": [
    "X_train, X_test, y_train, y_test = train_test_split(new_X, y, test_size=0.2, random_state=42)"
   ]
  },
  {
   "cell_type": "code",
   "execution_count": 44,
   "metadata": {},
   "outputs": [],
   "source": [
    "model_with_pca = LinearRegression()"
   ]
  },
  {
   "cell_type": "code",
   "execution_count": 46,
   "metadata": {},
   "outputs": [],
   "source": [
    "model_with_pca.fit(X_train, y_train)\n",
    "predict_with_pca = model_with_pca.predict(X_test)"
   ]
  },
  {
   "cell_type": "code",
   "execution_count": 47,
   "metadata": {},
   "outputs": [
    {
     "data": {
      "text/plain": [
       "<matplotlib.axes._subplots.AxesSubplot at 0x14b6aa2a898>"
      ]
     },
     "execution_count": 47,
     "metadata": {},
     "output_type": "execute_result"
    },
    {
     "data": {
      "image/png": "[encoded data removed]",
      "text/plain": [
       "<Figure size 432x288 with 1 Axes>"
      ]
     },
     "metadata": {
      "needs_background": "light"
     },
     "output_type": "display_data"
    }
   ],
   "source": [
    "#Residual plot\n",
    "plt.title('Residual plot')\n",
    "plt.ylabel('Residual')\n",
    "sns.residplot(predict_with_pca, predict_with_pca - y_test)"
   ]
  },
  {
   "cell_type": "code",
   "execution_count": 48,
   "metadata": {},
   "outputs": [
    {
     "data": {
      "text/plain": [
       "299850.5790088236"
      ]
     },
     "execution_count": 48,
     "metadata": {},
     "output_type": "execute_result"
    }
   ],
   "source": [
    "mean_absolute_error(y_test, predict_with_pca)"
   ]
  },
  {
   "cell_type": "markdown",
   "metadata": {},
   "source": [
    "**MAE** ở đây là **299850.58**"
   ]
  },
  {
   "cell_type": "markdown",
   "metadata": {},
   "source": [
    "**Cross validation**"
   ]
  },
  {
   "cell_type": "code",
   "execution_count": 50,
   "metadata": {},
   "outputs": [
    {
     "name": "stdout",
     "output_type": "stream",
     "text": [
      "MAE score: 299620.1651022322\n",
      "Chạy mất 0.0316 giây.\n"
     ]
    }
   ],
   "source": [
    "t2 = perf_counter()\n",
    "kfold = KFold(n_splits=5)\n",
    "scores = cross_val_score(LinearRegression(), new_X, y, scoring='neg_mean_absolute_error', cv=kfold)\n",
    "t3 = perf_counter()\n",
    "print(\"MAE score:\", scores.mean()*(-1))\n",
    "print(\"Chạy mất {0:.4f} giây.\".format(t3-t2))"
   ]
  },
  {
   "cell_type": "markdown",
   "metadata": {},
   "source": [
    "Kết luận: Vậy là nếu dùng PCA thì số chiều nhỏ hơn và train cũng nhanh hơn"
   ]
  },
  {
   "cell_type": "markdown",
   "metadata": {},
   "source": [
    "## V. Analysis for each section"
   ]
  },
  {
   "cell_type": "markdown",
   "metadata": {},
   "source": [
    "(# **Old** Analysis)<br>\n",
    "Ứng dụng model cho dự đoán, dùng _holdout_ nhưng **không** dùng PCA:\n",
    "- Mean Absolute Error: **298754.55**\n",
    "\n",
    "Ứng dụng model cho dự đoán, dùng _holdout_ **có dùng** PCA: (chọn n components = **3**)\n",
    "- Mean Absolute Error: **301964.58**\n",
    "\n",
    "Ứng dụng model cho dự đoán, dùng _cross validation_ nhưng **không** dùng PCA:\n",
    "- Mean Absolute Error: **299620.165102**\n",
    "- Elapsed time: **0.1981** seconds\n",
    "\n",
    "Ứng dụng model cho dự đoán, dùng _cross validation_ **có dùng** PCA: (chọn n components = **3**)\n",
    "- Mean Absolute Error: **299620.165102**\n",
    "- Elapsed time: **0.1326** seconds\n",
    "\n",
    "Kết luận:\n",
    "- Trong những mô hình có dữ liệu **nhỏ** mà ta vẫn chưa chắc về model thì nên dùng _cross validation_, trong những mô hình có dữ liệu lớn thì _holdout_ là một giải pháp tốt hơn.\n",
    "- Khi chọn với số components là 3 thì **MAE** của 2 model đều **bằng nhau** (trong cross validation). Tuy nhiên nếu chọn số chiều thấp hơn ( ví dụ components = 2) thì **MAE** của model **_không dùng PCA_** nhỏ hơn -> chứng tỏ model **không dùng PCA lúc này** dự đoán **tốt hơn**\n",
    "- Về thời gian chạy, kể cả khi **MAE** của 2 model bằng nhau thì model **có dùng PCA** chạy **nhanh hơn**. \n",
    "<br>\n",
    "Số chiều càng nhỏ thì model train càng nhanh hơn nhưng thiếu chính xác hơn."
   ]
  },
  {
   "cell_type": "code",
   "execution_count": 88,
   "metadata": {},
   "outputs": [
    {
     "name": "stdout",
     "output_type": "stream",
     "text": [
      "{'fit_time': array([0.00800014, 0.00900054, 0.00800061, 0.0090003 , 0.00800037]), 'score_time': array([0.00100017, 0.00099993, 0.00100017, 0.00200033, 0.00099993]), 'test_score': array([-321594.1918956 , -325747.44970179, -325793.57623815,\n",
      "       -322581.19051405, -331318.99634996])}\n",
      "Chạy mất 0.0559 giây.\n"
     ]
    }
   ],
   "source": [
    "pca = PCA(n_components=2)\n",
    "pca.fit(X)\n",
    "new_X_1 = pca.transform(X)\n",
    "t4 = perf_counter()\n",
    "scores = cross_validate(LinearRegression(), new_X_1, y, scoring='neg_mean_absolute_error', cv=5)\n",
    "t5 = perf_counter()\n",
    "print(scores)\n",
    "print(\"Chạy mất {0:.4f} giây.\".format(t5-t4))"
   ]
  },
  {
   "cell_type": "code",
   "execution_count": 89,
   "metadata": {},
   "outputs": [
    {
     "name": "stdout",
     "output_type": "stream",
     "text": [
      "Mean Absolute Error 325407.080940\n"
     ]
    }
   ],
   "source": [
    "print('Mean Absolute Error %2f' %(-1 * scores['test_score'].mean()))"
   ]
  },
  {
   "cell_type": "markdown",
   "metadata": {},
   "source": [
    "## VI. Changing model"
   ]
  },
  {
   "cell_type": "markdown",
   "metadata": {},
   "source": [
    "Biết đâu mô hình này vẫn chưa đủ tốt. Ta dùng thử mô hình KNN regressor cho bài toán dự đoán giá nhà này."
   ]
  },
  {
   "cell_type": "code",
   "execution_count": 73,
   "metadata": {},
   "outputs": [
    {
     "data": {
      "text/plain": [
       "KNeighborsRegressor(algorithm='auto', leaf_size=30, metric='minkowski',\n",
       "                    metric_params=None, n_jobs=None, n_neighbors=5, p=2,\n",
       "                    weights='uniform')"
      ]
     },
     "execution_count": 73,
     "metadata": {},
     "output_type": "execute_result"
    }
   ],
   "source": [
    "from sklearn.neighbors import KNeighborsRegressor\n",
    "model = KNeighborsRegressor()\n",
    "model.fit(X_train, y_train)"
   ]
  },
  {
   "cell_type": "code",
   "execution_count": 74,
   "metadata": {},
   "outputs": [
    {
     "data": {
      "text/plain": [
       "269894.85087554745"
      ]
     },
     "execution_count": 74,
     "metadata": {},
     "output_type": "execute_result"
    }
   ],
   "source": [
    "y_pred = model.predict(X_test)\n",
    "mean_absolute_error(y_test, y_pred)"
   ]
  },
  {
   "cell_type": "markdown",
   "metadata": {},
   "source": [
    "Ta thấy MAE của khi qua mô hình mới đã giảm nhỏ nhất so với mô hình Logistic Regression ở trên. Giờ ta thử với Kfold xem thử kết quả này có ổn định hay không?"
   ]
  },
  {
   "cell_type": "code",
   "execution_count": 77,
   "metadata": {},
   "outputs": [
    {
     "name": "stdout",
     "output_type": "stream",
     "text": [
      "MAE score: 265893.9134619547\n"
     ]
    }
   ],
   "source": [
    "scores = cross_val_score(KNeighborsRegressor(), X, y, scoring='neg_mean_absolute_error' ,cv=kfold)\n",
    "print(\"MAE score:\", scores.mean()*(-1))"
   ]
  },
  {
   "cell_type": "markdown",
   "metadata": {},
   "source": [
    "Kết quả khá tốt, MAE trung bình (cross validation) của mô hình này thấp hơn so với mô hình Logistic Regression ở trên."
   ]
  },
  {
   "cell_type": "markdown",
   "metadata": {},
   "source": [
    "## VII. Conclusions"
   ]
  },
  {
   "cell_type": "markdown",
   "metadata": {},
   "source": [
    "- Sau khi khám phá dữ liệu ta thấy có lượng missing value lớn, thuộc column Price chiếm **23.15%** quan sát. Đây là một lượng dữ liệu lớn nên ta xử lý bằng cách fill các missing value này bằng giá trị **mean** của column Price này. Sau đó quan sát thấy các dữ liệu bất thường về số phòng Rooms nên ta drop các hàng này.\n",
    "- Sau khi ứng dụng model để tiên đoán với holdout và cross validation, không dùng và có dùng PCA. Ta nhận thấy khi dùng PCA thì **thời gian** xử lý dữ liệu **nhanh hơn**, với _chiều PCA **càng nhỏ**_ thì _trung bình sai số tuyệt đối **tăng lên**_."
   ]
  },
  {
   "cell_type": "markdown",
   "metadata": {},
   "source": [
    "## VIII. References"
   ]
  },
  {
   "cell_type": "markdown",
   "metadata": {},
   "source": [
    "[Cross-Validation by DanB](https://www.kaggle.com/dansbecker/cross-validation)<br>\n",
    "[Handling Missing Values by DanB](https://www.kaggle.com/dansbecker/handling-missing-values)"
   ]
  }
 ],
 "metadata": {
  "kernelspec": {
   "display_name": "Python 3",
   "language": "python",
   "name": "python3"
  },
  "language_info": {
   "codemirror_mode": {
    "name": "ipython",
    "version": 3
   },
   "file_extension": ".py",
   "mimetype": "text/x-python",
   "name": "python",
   "nbconvert_exporter": "python",
   "pygments_lexer": "ipython3",
   "version": "3.6.6"
  }
 },
 "nbformat": 4,
 "nbformat_minor": 2
}
