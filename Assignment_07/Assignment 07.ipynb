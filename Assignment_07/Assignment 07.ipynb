{
 "cells": [
  {
   "cell_type": "markdown",
   "metadata": {},
   "source": [
    "<img src=\"Untitled.png\">"
   ]
  },
  {
   "cell_type": "markdown",
   "metadata": {},
   "source": [
    "Given the initial weights:<br>\n",
    "w1j\tw1i\tw2j\tw2i\tw3j\tw3i\twjk\twik<br>\n",
    "0.2\t0.1\t0.3\t-0.1\t-0.1\t0.2\t0.1\t0.5<br>\n",
    "\n",
    "Input: [1, 0.4, 0.7]<br>\n",
    "Nodes:<br>\n",
    "(1,2,3) -> (j,i) -> k<br>\n",
    "Calculate the updated weights for the first iteration."
   ]
  },
  {
   "cell_type": "markdown",
   "metadata": {},
   "source": [
    "## I. Feed forward\n",
    "$$ Z= \\sum ( {W^T}\\cdot{X} + w_0) $$\n",
    "Giả sử $w_0 = 0$"
   ]
  },
  {
   "cell_type": "code",
   "execution_count": 12,
   "metadata": {},
   "outputs": [
    {
     "name": "stdout",
     "output_type": "stream",
     "text": [
      "Net_j: 0.25\n",
      "Net_i: 0.20\n"
     ]
    }
   ],
   "source": [
    "import numpy as np\n",
    "X = np.array([1, 0.4, 0.7])\n",
    "Wj = np.array([0.2, 0.3, -0.1]) # w1j , w2j, w3j\n",
    "Wi = np.array([0.1, -0.1, 0.2]) # w1i, w2i, w3i\n",
    "\n",
    "Zj = X.dot(Wj)\n",
    "Zi = X.dot(Wi)\n",
    "print('Net_j: %.2f' % Zj)\n",
    "print('Net_i: %.2f' % Zi)"
   ]
  },
  {
   "cell_type": "markdown",
   "metadata": {},
   "source": [
    "Giờ đã có Net_j và Net_i, ta cho nó đi qua một activation function. Giả sử đi qua Sigmoid function.<br>\n",
    "$$ Sigmoid function = \\frac {1}{1 + e^{-z}} $$"
   ]
  },
  {
   "cell_type": "code",
   "execution_count": 13,
   "metadata": {},
   "outputs": [
    {
     "name": "stdout",
     "output_type": "stream",
     "text": [
      "Out_j: 0.56\n",
      "Out_i: 0.55\n"
     ]
    }
   ],
   "source": [
    "from math import e\n",
    "a21 = 1/(1+ e**(-Zj))\n",
    "a22 = 1/(1+ e**(-Zi))\n",
    "print('Out_j: %.2f' % a21)\n",
    "print('Out_i: %.2f' % a22)"
   ]
  },
  {
   "cell_type": "code",
   "execution_count": 14,
   "metadata": {},
   "outputs": [
    {
     "name": "stdout",
     "output_type": "stream",
     "text": [
      "Net_k: 0.33\n"
     ]
    }
   ],
   "source": [
    "wjk = 0.1\n",
    "wik = 0.5\n",
    "Zk = a21*wjk + a22*wik\n",
    "print('Net_k: %.2f' % Zk)"
   ]
  },
  {
   "cell_type": "code",
   "execution_count": 15,
   "metadata": {},
   "outputs": [
    {
     "name": "stdout",
     "output_type": "stream",
     "text": [
      "Out_K: 0.58\n"
     ]
    }
   ],
   "source": [
    "a31 = 1/(1+ e**(-Zk))\n",
    "print('Out_K: %.2f' % a31)"
   ]
  },
  {
   "cell_type": "markdown",
   "metadata": {},
   "source": [
    "<img src=\"Untitled1.png\">"
   ]
  },
  {
   "cell_type": "markdown",
   "metadata": {},
   "source": [
    "## II. Back propagation"
   ]
  },
  {
   "cell_type": "markdown",
   "metadata": {},
   "source": [
    "Giả sử giá trị đúng là **t = 0.9** vậy với giá trị output **o= 0.58**. **Stochastic approximation:**"
   ]
  },
  {
   "cell_type": "markdown",
   "metadata": {},
   "source": [
    "$$E(\\overrightarrow{w}) = \\sum_{\\substack{k\\in outputs}} \\frac{(t_{kd} – o_{kd})^2}{2}$$"
   ]
  },
  {
   "cell_type": "code",
   "execution_count": 11,
   "metadata": {},
   "outputs": [
    {
     "name": "stdout",
     "output_type": "stream",
     "text": [
      "E_total: 0.05\n"
     ]
    }
   ],
   "source": [
    "E = (0.9-0.58)**2*0.5\n",
    "print('E_total: %.2f' % E)"
   ]
  },
  {
   "cell_type": "markdown",
   "metadata": {},
   "source": [
    "$$ \\Delta W_{ji} = \\eta \\delta_j X_{ji} $$\n",
    "$$ \\delta_j = o_j(1-o_j)(t_j -o_j) $$"
   ]
  },
  {
   "cell_type": "markdown",
   "metadata": {},
   "source": [
    "<img src=\"Untitled2.png\">"
   ]
  },
  {
   "cell_type": "markdown",
   "metadata": {},
   "source": [
    "$$ \\Delta K = \\frac{\\partial E_{total}}{\\partial w_{jk}}= \\frac{\\partial E_{total}}{\\partial Out_K} \\times \\frac{\\partial Out_k}{\\partial Net_K} \\times \\frac{\\partial Net_k}{\\partial w_{jk}} $$"
   ]
  },
  {
   "cell_type": "code",
   "execution_count": 17,
   "metadata": {},
   "outputs": [
    {
     "name": "stdout",
     "output_type": "stream",
     "text": [
      "-0.04365312000000001\n"
     ]
    }
   ],
   "source": [
    "delta= (0.58-0.9)*0.58*(1-0.58)*0.56\n",
    "print(delta)"
   ]
  },
  {
   "cell_type": "code",
   "execution_count": 18,
   "metadata": {},
   "outputs": [
    {
     "name": "stdout",
     "output_type": "stream",
     "text": [
      "wjk_updated 0.14365312000000002\n"
     ]
    }
   ],
   "source": [
    "wjk_updated = wjk -delta\n",
    "print('wjk_updated', wjk_updated)"
   ]
  },
  {
   "cell_type": "code",
   "execution_count": 23,
   "metadata": {},
   "outputs": [
    {
     "name": "stdout",
     "output_type": "stream",
     "text": [
      "-0.01056405504\n"
     ]
    }
   ],
   "source": [
    "delta= (0.58-0.9)*0.58*(1-0.58)*0.55*0.56*(1-0.56)*1\n",
    "print(delta)"
   ]
  },
  {
   "cell_type": "code",
   "execution_count": 26,
   "metadata": {},
   "outputs": [
    {
     "name": "stdout",
     "output_type": "stream",
     "text": [
      "w1j_updated 0.21056405504\n"
     ]
    }
   ],
   "source": [
    "w1j_updated = 0.2 - delta\n",
    "print('w1j_updated', w1j_updated)"
   ]
  },
  {
   "cell_type": "markdown",
   "metadata": {},
   "source": [
    "[link](https://mattmazur.com/2015/03/17/a-step-by-step-backpropagation-example/?fbclid=IwAR1wEp6dJKMiYuEk2pZ_IlBlQ3YczFlfjHesWtF42KnTjYFX6gllOrr5nDY)"
   ]
  }
 ],
 "metadata": {
  "kernelspec": {
   "display_name": "Python 3",
   "language": "python",
   "name": "python3"
  },
  "language_info": {
   "codemirror_mode": {
    "name": "ipython",
    "version": 3
   },
   "file_extension": ".py",
   "mimetype": "text/x-python",
   "name": "python",
   "nbconvert_exporter": "python",
   "pygments_lexer": "ipython3",
   "version": "3.6.5"
  }
 },
 "nbformat": 4,
 "nbformat_minor": 2
}
