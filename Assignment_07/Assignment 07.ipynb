{
 "cells": [
  {
   "cell_type": "markdown",
   "metadata": {},
   "source": [
    "<img src=\"Untitled.png\">"
   ]
  },
  {
   "cell_type": "markdown",
   "metadata": {},
   "source": [
    "Given the initial weights:<br>\n",
    "w1j\tw1i\tw2j\tw2i\tw3j\tw3i\twjk\twik<br>\n",
    "0.2\t0.1\t0.3\t-0.1\t-0.1\t0.2\t0.1\t0.5<br>\n",
    "\n",
    "Input: [1, 0.4, 0.7]<br>\n",
    "Nodes:<br>\n",
    "(1,2,3) -> (j,i) -> k<br>\n",
    "Calculate the updated weights for the first iteration."
   ]
  },
  {
   "cell_type": "markdown",
   "metadata": {},
   "source": [
    "## I. Feed forward\n",
    "$$ Z= \\sum ( {W^T}\\cdot{X} + w_0) $$\n",
    "Giả sử $w_0 = 0$"
   ]
  },
  {
   "cell_type": "code",
   "execution_count": 10,
   "metadata": {},
   "outputs": [
    {
     "name": "stdout",
     "output_type": "stream",
     "text": [
      "Zj: 0.25\n",
      "Zi: 0.20\n"
     ]
    }
   ],
   "source": [
    "import numpy as np\n",
    "X = np.array([1, 0.4, 0.7])\n",
    "Wj = np.array([0.2, 0.3, -0.1]) # w1j , w2j, w3j\n",
    "Wi = np.array([0.1, -0.1, 0.2]) # w1i, w2i, w3i\n",
    "\n",
    "Zj = X.dot(Wj)\n",
    "Zi = X.dot(Wi)\n",
    "print('Zj: %.2f' % Zj)\n",
    "print('Zi: %.2f' % Zi)"
   ]
  },
  {
   "cell_type": "markdown",
   "metadata": {},
   "source": [
    "Giờ đã có Zj và Zi, ta cho nó đi qua một activation function. Giả sử đi qua Sigmoid function.<br>\n",
    "$$ Sigmoid function = \\frac {1}{1 + e^{-z}} $$"
   ]
  },
  {
   "cell_type": "code",
   "execution_count": 11,
   "metadata": {},
   "outputs": [
    {
     "name": "stdout",
     "output_type": "stream",
     "text": [
      "a21: 0.56\n",
      "a22: 0.55\n"
     ]
    }
   ],
   "source": [
    "from math import e\n",
    "a21 = 1/(1+ e**(-Zj))\n",
    "a22 = 1/(1+ e**(-Zi))\n",
    "print('a21: %.2f' % a21)\n",
    "print('a22: %.2f' % a22)"
   ]
  },
  {
   "cell_type": "code",
   "execution_count": 12,
   "metadata": {},
   "outputs": [
    {
     "name": "stdout",
     "output_type": "stream",
     "text": [
      "Zk: 0.33\n"
     ]
    }
   ],
   "source": [
    "wjk = 0.1\n",
    "wik = 0.5\n",
    "Zk = a21*wjk + a22*wik\n",
    "print('Zk: %.2f' % Zk)"
   ]
  },
  {
   "cell_type": "code",
   "execution_count": 13,
   "metadata": {},
   "outputs": [
    {
     "name": "stdout",
     "output_type": "stream",
     "text": [
      "Our output is: 0.58\n"
     ]
    }
   ],
   "source": [
    "a31 = 1/(1+ e**(-Zk))\n",
    "print('Our output is: %.2f' % a31)"
   ]
  },
  {
   "cell_type": "markdown",
   "metadata": {},
   "source": [
    "<img src=\"Untitled1.png\">"
   ]
  },
  {
   "cell_type": "markdown",
   "metadata": {},
   "source": [
    "## II. Back propagation"
   ]
  },
  {
   "cell_type": "markdown",
   "metadata": {},
   "source": [
    "Giả sử giá trị đúng là **t = 1** vậy với giá trị output **o= 0.58**. **Stochastic approximation:**"
   ]
  },
  {
   "cell_type": "markdown",
   "metadata": {},
   "source": [
    "$$E(\\overrightarrow{w}) = \\sum_{\\substack{k\\in outputs}} \\frac{(t_{kd} – o_{kd})^2}{2}$$"
   ]
  },
  {
   "cell_type": "code",
   "execution_count": 14,
   "metadata": {},
   "outputs": [
    {
     "name": "stdout",
     "output_type": "stream",
     "text": [
      "E: 0.09\n"
     ]
    }
   ],
   "source": [
    "E = (1-0.58)**2*0.5\n",
    "print('E: %.2f' % E)"
   ]
  },
  {
   "cell_type": "markdown",
   "metadata": {},
   "source": [
    "$$ \\Delta W_{ji} = \\eta \\delta_j X_{ji} $$\n",
    "$$ \\delta_j = o_j(1-o_j)(t_j -o_j) $$"
   ]
  },
  {
   "cell_type": "markdown",
   "metadata": {},
   "source": [
    "<img src=\"Untitled2.png\">"
   ]
  },
  {
   "cell_type": "code",
   "execution_count": 15,
   "metadata": {},
   "outputs": [
    {
     "name": "stdout",
     "output_type": "stream",
     "text": [
      "delta k: 0.10\n"
     ]
    }
   ],
   "source": [
    "delta_k = 0.58*(1-0.58)*(1-0.58)\n",
    "print('delta k: %.2f' % delta_k)"
   ]
  },
  {
   "cell_type": "code",
   "execution_count": null,
   "metadata": {},
   "outputs": [],
   "source": []
  }
 ],
 "metadata": {
  "kernelspec": {
   "display_name": "Python 3",
   "language": "python",
   "name": "python3"
  },
  "language_info": {
   "codemirror_mode": {
    "name": "ipython",
    "version": 3
   },
   "file_extension": ".py",
   "mimetype": "text/x-python",
   "name": "python",
   "nbconvert_exporter": "python",
   "pygments_lexer": "ipython3",
   "version": "3.6.5"
  }
 },
 "nbformat": 4,
 "nbformat_minor": 2
}
