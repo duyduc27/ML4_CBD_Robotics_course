{
 "cells": [
  {
   "cell_type": "markdown",
   "metadata": {},
   "source": [
    "$$ C =  \\begin{pmatrix}\n",
    "1 & -2 & 0 \\\\\n",
    "-2 &  5 & 0 \\\\\n",
    "0  &  0 & 2\n",
    "\\end{pmatrix} $$"
   ]
  },
  {
   "cell_type": "markdown",
   "metadata": {},
   "source": [
    "Cho covariance matrix, tính toán cặp eigenvalue - eigenvector và principal components Y1, Y2, Y3"
   ]
  },
  {
   "cell_type": "markdown",
   "metadata": {},
   "source": [
    "Để tối đa hóa variance thì C.v = λ.v"
   ]
  },
  {
   "cell_type": "markdown",
   "metadata": {},
   "source": [
    "**Đi tìm eigenvalues**<br>\n",
    "<br>\n",
    "**(C – λI)v = 0**<br>\n",
    "**det(C – λI) = 0**"
   ]
  },
  {
   "cell_type": "markdown",
   "metadata": {},
   "source": [
    "$$ det(C – λI) =  \\begin{pmatrix}\n",
    "1-λ & -2 & 0 \\\\\n",
    "-2 &   5-λ & 0 \\\\\n",
    "0  &   0  & 2-λ\n",
    "\\end{pmatrix} $$"
   ]
  },
  {
   "cell_type": "markdown",
   "metadata": {},
   "source": [
    "$$ (2-λ)*[(1-λ) * (5-λ) - (-2) * (-2)] = 0 $$\n",
    "$$ (2-λ)[λ^{2} - 6λ +1] = 0 $$"
   ]
  },
  {
   "cell_type": "code",
   "execution_count": 1,
   "metadata": {},
   "outputs": [],
   "source": [
    "from math import sqrt\n",
    "\n",
    "def giai_pt_bac2(a,b,c):\n",
    "    \"\"\"Giải phương trình bậc 2: ax^2 + bx + c = 0\"\"\"\n",
    "    if a == 0:\n",
    "        if b == 0:\n",
    "            if c == 0:\n",
    "                print(\"Phương trình vô số nghiệm!\")\n",
    "            else:\n",
    "                print(\"Phương trình vô nghiệm!\")\n",
    "        else:\n",
    "            if c == 0:\n",
    "                print(\"Phương trình có 1 nghiệm x = 0\")\n",
    "            else:\n",
    "                print(\"Phương trình có 1 nghiệm x = \", -c / b)\n",
    "\n",
    "    else:\n",
    "        delta = b ** 2 - 4 * a * c\n",
    "        if delta < 0:\n",
    "            print(\"Phương trình vô nghiệm!\")\n",
    "        elif delta == 0:\n",
    "            print(\"Phương trình có 1 nghiệm x = \", -b / (2 * a))\n",
    "        else:\n",
    "            print(\"Phương trình có 2 nghiệm phân biệt!\")\n",
    "            print(\"x1 = \", float((-b - sqrt(delta)) / (2 * a)))\n",
    "            print(\"x2 = \", float((-b + sqrt(delta)) / (2 * a)))"
   ]
  },
  {
   "cell_type": "code",
   "execution_count": 2,
   "metadata": {},
   "outputs": [
    {
     "name": "stdout",
     "output_type": "stream",
     "text": [
      "Phương trình có 2 nghiệm phân biệt!\n",
      "x1 =  0.1715728752538097\n",
      "x2 =  5.82842712474619\n"
     ]
    }
   ],
   "source": [
    "giai_pt_bac2(1, -6, 1)"
   ]
  },
  {
   "cell_type": "markdown",
   "metadata": {},
   "source": [
    "Ta có: $$ λ_1 = 3+2\\sqrt{2} $$ \n",
    "$$λ_2 = 2$$ \n",
    "$$λ_3 = 3-2\\sqrt{2}$$"
   ]
  },
  {
   "cell_type": "markdown",
   "metadata": {},
   "source": [
    "**Đi tìm eigenvectors**"
   ]
  },
  {
   "cell_type": "markdown",
   "metadata": {},
   "source": [
    "**(C – λI)v = 0**\n",
    "\n",
    "$$ C =  \\begin{pmatrix}\n",
    "1 & -2 & 0 \\\\\n",
    "-2 &  5 & 0 \\\\\n",
    "0  &  0 & 2\n",
    "\\end{pmatrix} $$"
   ]
  },
  {
   "cell_type": "markdown",
   "metadata": {},
   "source": [
    "**Với** $ λ_1 = 3+2\\sqrt{2} $"
   ]
  },
  {
   "cell_type": "markdown",
   "metadata": {},
   "source": [
    "$$(C – (3+2\\sqrt{2})*I)v = 0$$\n",
    "\n",
    "$$ (C – (3+2\\sqrt{2})*I) =  \\begin{pmatrix}\n",
    "-2-2\\sqrt{2} & -2 & 0 \\\\\n",
    "-2 &  2-2\\sqrt{2} & 0 \\\\\n",
    "0  &  0 & -1-2\\sqrt{2}\n",
    "\\end{pmatrix} $$"
   ]
  },
  {
   "cell_type": "markdown",
   "metadata": {},
   "source": [
    "Với v có dạng\n",
    "$$ v= \\begin{pmatrix}\n",
    "a \\\\\n",
    "b\\\\\n",
    "c\n",
    "\\end{pmatrix} $$"
   ]
  },
  {
   "cell_type": "markdown",
   "metadata": {},
   "source": [
    "Thì ở $v_1$ ta có c = 0, a và b vô số nghiệm, với a theo b theo biểu thức:\n",
    "$$(-2 -2\\sqrt{2})a - 2b = -2a + (2-2\\sqrt{2})b$$\n",
    "$$ a = \\frac{\\sqrt{2} -2}{\\sqrt{2}}*b$$\n",
    "$$ a = (1 - \\sqrt{2})*b$$"
   ]
  },
  {
   "cell_type": "markdown",
   "metadata": {},
   "source": [
    "Chọn entries:\n",
    "$$ v_1 = \\begin{pmatrix}\n",
    "1 - \\sqrt{2} \\\\\n",
    "1\\\\\n",
    "0\n",
    "\\end{pmatrix} $$"
   ]
  },
  {
   "cell_type": "markdown",
   "metadata": {},
   "source": [
    "Với $ λ_2 = 2$"
   ]
  },
  {
   "cell_type": "markdown",
   "metadata": {},
   "source": [
    "$$(C – 2*I)v = 0$$\n",
    "\n",
    "$$ (C – 2*I) =  \\begin{pmatrix}\n",
    "-1 & -2 & 0 \\\\\n",
    "-2 &  3 & 0 \\\\\n",
    "0  &  0 & 0\n",
    "\\end{pmatrix} $$"
   ]
  },
  {
   "cell_type": "markdown",
   "metadata": {},
   "source": [
    "Tương tự ta có trong vector này thì c là bất kỳ và a = b = 0"
   ]
  },
  {
   "cell_type": "markdown",
   "metadata": {},
   "source": [
    "Ta chọn\n",
    "$$ v_2= \\begin{pmatrix}\n",
    "0 \\\\\n",
    "0\\\\\n",
    "1\n",
    "\\end{pmatrix} $$"
   ]
  },
  {
   "cell_type": "markdown",
   "metadata": {},
   "source": [
    "**Với** $$λ_3 = 3-2\\sqrt{2}$$"
   ]
  },
  {
   "cell_type": "markdown",
   "metadata": {},
   "source": [
    "$$(C – (3-2\\sqrt{2})*I)v = 0$$\n",
    "\n",
    "$$ (C – (3-2\\sqrt{2})*I) =  \\begin{pmatrix}\n",
    "-2+2\\sqrt{2} & -2 & 0 \\\\\n",
    "-2 &  2+2\\sqrt{2} & 0 \\\\\n",
    "0  &  0 & -1+2\\sqrt{2}\n",
    "\\end{pmatrix} $$"
   ]
  },
  {
   "cell_type": "markdown",
   "metadata": {},
   "source": [
    "trong vector này thì c= 0 và $ a= (1+ \\sqrt{2}) *b$"
   ]
  },
  {
   "cell_type": "markdown",
   "metadata": {},
   "source": [
    "$$ v_3= \\begin{pmatrix}\n",
    "1+ \\sqrt{2} \\\\\n",
    "1\\\\\n",
    "0\n",
    "\\end{pmatrix} $$"
   ]
  },
  {
   "cell_type": "markdown",
   "metadata": {},
   "source": [
    "Princple components: là matrix các eigenvector đã sắp xếp dựa theo các eigenvalue.<br> \n",
    "Vậy Y(y1, y2, y3) là:\n",
    "$$ Y= \\begin{pmatrix}\n",
    "1 - \\sqrt{2} & 0 & 1+ \\sqrt{2}\\\\\n",
    "1 & 0 & 1\\\\\n",
    "0 & 1 & 0\n",
    "\\end{pmatrix} $$"
   ]
  },
  {
   "cell_type": "code",
   "execution_count": null,
   "metadata": {},
   "outputs": [],
   "source": [
    "xep dung"
   ]
  },
  {
   "cell_type": "code",
   "execution_count": 3,
   "metadata": {},
   "outputs": [
    {
     "name": "stdout",
     "output_type": "stream",
     "text": [
      "[0.17157288 5.82842712 2.        ]\n",
      "\n",
      "[[-0.92387953  0.38268343  0.        ]\n",
      " [-0.38268343 -0.92387953  0.        ]\n",
      " [ 0.          0.          1.        ]]\n"
     ]
    }
   ],
   "source": [
    "# Testing\n",
    "from numpy import array\n",
    "from numpy.linalg import eig\n",
    "\n",
    "C = array([\n",
    "[1, -2, 0],\n",
    "[-2, 5, 0],\n",
    "[0,0, 2]\n",
    "])\n",
    "\n",
    "values, vectors = eig(C)\n",
    "print(values)\n",
    "print()\n",
    "print(vectors)"
   ]
  },
  {
   "cell_type": "markdown",
   "metadata": {},
   "source": [
    "# References\n",
    "[Viết công thức toán trên Jupiter](https://en.wikibooks.org/wiki/LaTeX/Mathematics)"
   ]
  }
 ],
 "metadata": {
  "kernelspec": {
   "display_name": "Python 3",
   "language": "python",
   "name": "python3"
  },
  "language_info": {
   "codemirror_mode": {
    "name": "ipython",
    "version": 3
   },
   "file_extension": ".py",
   "mimetype": "text/x-python",
   "name": "python",
   "nbconvert_exporter": "python",
   "pygments_lexer": "ipython3",
   "version": "3.7.3"
  }
 },
 "nbformat": 4,
 "nbformat_minor": 2
}
