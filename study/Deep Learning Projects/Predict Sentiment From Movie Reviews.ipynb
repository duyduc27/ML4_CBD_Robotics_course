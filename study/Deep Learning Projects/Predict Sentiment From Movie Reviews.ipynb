{
 "cells": [
  {
   "cell_type": "markdown",
   "metadata": {},
   "source": [
    "Phân tích cảm xúc là một bài toán thuộc phân khúc 'xử lý ngôn ngữ tự nhiên', ở đó những đoạn chữ được hiểu và ý nghĩa của nó được phân tích. Trong phần này, ta sẽ khám phá làm sao để tiên đoán cảm xúc của các bài phê bình về phim. Liệu bài nào là phê bình tích cực, bài nào tiêu cực bằng Python sử dụng thư viện Keras.\n",
    "- Làm sao để load dữ liệu phê bình của IMDB bằng Keras\n",
    "- Làm sao để sử dụng word embedding trong Keras cho xử lý ngôn ngữ tự nhiên\n",
    "- Làm sao để phát triển và đánh giá mô hình MultiLayer Perceptron cho bài toán IMDB\n",
    "- Làm sao để phát triển mô hình CNN 1 chiều cho bài toán IMDB"
   ]
  },
  {
   "cell_type": "markdown",
   "metadata": {},
   "source": [
    "## I. Load the IMDB Dataset With Keras"
   ]
  },
  {
   "cell_type": "code",
   "execution_count": 1,
   "metadata": {},
   "outputs": [
    {
     "name": "stderr",
     "output_type": "stream",
     "text": [
      "Using TensorFlow backend.\n"
     ]
    },
    {
     "name": "stdout",
     "output_type": "stream",
     "text": [
      "Downloading data from https://s3.amazonaws.com/text-datasets/imdb.npz\n",
      "17465344/17464789 [==============================] - 31s 2us/step\n",
      "Training data:\n",
      "(50000,)\n",
      "(50000,)\n"
     ]
    }
   ],
   "source": [
    "import numpy as np\n",
    "from keras.datasets import imdb\n",
    "import matplotlib.pyplot as plt\n",
    "\n",
    "# save np.load\n",
    "np_load_old = np.load\n",
    "\n",
    "# modify the default parameters of np.load\n",
    "np.load = lambda *a,**k: np_load_old(*a, allow_pickle=True, **k)\n",
    "\n",
    "# load the dataset\n",
    "(X_train, y_train), (X_test, y_test) = imdb.load_data()\n",
    "X = np.concatenate((X_train, y_train), axis=0)\n",
    "y = np.concatenate((X_test, y_test), axis=0)\n",
    "\n",
    "# summarize size\n",
    "print('Training data:')\n",
    "print(X.shape)\n",
    "print(y.shape)"
   ]
  },
  {
   "cell_type": "code",
   "execution_count": 4,
   "metadata": {},
   "outputs": [
    {
     "name": "stdout",
     "output_type": "stream",
     "text": [
      "Number of words: \n",
      "88586\n"
     ]
    }
   ],
   "source": [
    "# Summarize number of words\n",
    "print(\"Number of words: \")\n",
    "print(len(np.unique(np.hstack(X))))"
   ]
  },
  {
   "cell_type": "code",
   "execution_count": 8,
   "metadata": {},
   "outputs": [
    {
     "name": "stdout",
     "output_type": "stream",
     "text": [
      "review length:\n",
      "Mean 550.15 words (801.616392)\n"
     ]
    },
    {
     "data": {
      "image/png": "[encoded data removed]",
      "text/plain": [
       "<Figure size 432x288 with 2 Axes>"
      ]
     },
     "metadata": {
      "needs_background": "light"
     },
     "output_type": "display_data"
    }
   ],
   "source": [
    "# summarize review length\n",
    "print('review length:')\n",
    "result = [len(str(x)) for x in X]\n",
    "print('Mean %.2f words (%f)' % (np.mean(result), np.std(result)))\n",
    "# plot review length as a boxplot and histogram\n",
    "plt.subplot(121)\n",
    "plt.boxplot(result)\n",
    "plt.subplot(122)\n",
    "plt.hist(result)\n",
    "plt.show()"
   ]
  },
  {
   "cell_type": "markdown",
   "metadata": {},
   "source": [
    "Một vài block code bị outdate nên khi sửa lại thì kết quả và hình không giống như sách."
   ]
  },
  {
   "cell_type": "markdown",
   "metadata": {},
   "source": [
    "## II. Word Embeddings"
   ]
  },
  {
   "cell_type": "markdown",
   "metadata": {},
   "source": [
    "Một bức phá mới trong ngành xử lý ngôn ngữ tự nhiên có tên là word embedding. Đây là một kĩ thuật mà các từ ở đó được encode như các vector có giá trị thực trong một không gian cao chiều. Ở đó những đặc điểm giống nhau giữa các từ trong khía cạnh ngữ nghĩa diễn dịch chặt chẽ trong một không gian vector. Những từ rời rạc được map vào các vector như các số liên tục. Điều này thì hữu ích khi làm việc với bài toán ngôn ngữ tự nhiên trong những mạng nơ-ron mà chúng ta cần giá trị input là những **con số**."
   ]
  },
  {
   "cell_type": "markdown",
   "metadata": {},
   "source": [
    "Chúng ta sẽ sử dụng word embedding cho bộ dữ liệu IMDB. Cho là, chúng ta chỉ quan tâm đến 5000 từ được sử dụng nhiều nhất trong bộ dữ liệu này. Theo đó kích cỡ của từ vựng sẽ là 5000 từ. Chúng ta có thể sử dụng một vector 32 chiều để đại diện cho từng từ. Cuối cùng ta dừng lại ở độ dài review tối đa 500 từ, rút ngắn những review dài hơn và nhồi vào (pad) những review ngắn hơn bằng các giá trị 0. Load dữ liệu IMDB theo cách sau:<br>\n",
    "`imdb.load_data(num_words=5000)`<br>\n",
    "Chúng ta sau đó sử dụng Keras utility để rút ngắn hoặc pad dữ liệu này thành độ dài 500 cho mỗi quan sát bằng sử dụng hàm **sequence.pad sequences()**<br>\n",
    "`X_train = sequence.pad_sequences(X_train, maxlen=500)\n",
    "X_test = sequence.pad_sequences(X_test, maxlen=500)`<br>\n",
    "Cuối cùng layer đầu tiên của mô hình chúng ta là một word embedding layer được tạo bằng **Embedding** class<br>\n",
    "`Embedding(5000, 32, input_length=500)`<br>\n",
    "Output của layer đầu tiên sẽ là một ma trận 32x500 cho mỗi bình luận phim trên tập train và test theo dạng số nguyên."
   ]
  },
  {
   "cell_type": "markdown",
   "metadata": {},
   "source": [
    "## III. Simple Multilayer Perceptron Model"
   ]
  },
  {
   "cell_type": "code",
   "execution_count": 9,
   "metadata": {},
   "outputs": [],
   "source": [
    "# MLP for the IMDB problem\n",
    "import numpy as np\n",
    "from keras.datasets import imdb\n",
    "from keras.models import Sequential\n",
    "from keras.layers import Dense, Flatten\n",
    "from keras.layers.embeddings import Embedding\n",
    "from keras.preprocessing import sequence\n",
    "\n",
    "# fix random seed for reproducibility\n",
    "seed = 7\n",
    "np.random.seed(seed)"
   ]
  },
  {
   "cell_type": "markdown",
   "metadata": {},
   "source": [
    "Giờ chúng ta sẽ load bộ dữ liệu IMDB. Chúng ta sẽ đơn giản hóa bộ dữ liệu như đã thảo luận ở trên. Chỉ load 5000 từ. Và tách 50% là train , 50% là test"
   ]
  },
  {
   "cell_type": "code",
   "execution_count": 10,
   "metadata": {},
   "outputs": [],
   "source": [
    "# load the dataset but only keep the top n words, zero the rest\n",
    "top_words = 5000\n",
    "(X_train, y_train), (X_test, y_test) = imdb.load_data(num_words=top_words)"
   ]
  },
  {
   "cell_type": "markdown",
   "metadata": {},
   "source": [
    "Bước tiếp theo là giới hạn mỗi review chỉ 500 từ. Lược bỏ những review dài hơn, và nhồi thêm giá trị 0 vào những review ngắn hơn."
   ]
  },
  {
   "cell_type": "code",
   "execution_count": 15,
   "metadata": {},
   "outputs": [],
   "source": [
    "max_words = 500\n",
    "X_train = sequence.pad_sequences(X_train, maxlen=max_words)\n",
    "X_test = sequence.pad_sequences(X_test, maxlen=max_words)"
   ]
  },
  {
   "cell_type": "markdown",
   "metadata": {},
   "source": [
    "Giờ chúng ta có thể tạo mô hình. Input layer đầu tiên là Embedding layer với bộ từ vựng là 5000, vector của từ có kích cỡ 32 chiều và độ dài 500. Output của layer đầu tiên là một ma trận có kích cỡ 32x500. Sau đó ta flat nó thành Embedding layers output thành 1 chiều. Sử dụng Dense layer với 250 node và activation 'ReLU'. Layer output cuối cùng có 1 node và dùng 'sigmoid' activation vì tiên đoán chỉ có 0 hoặc 1. Mô hình biên dịch với loss là logarithmic và optimizer là adam."
   ]
  },
  {
   "cell_type": "code",
   "execution_count": 20,
   "metadata": {},
   "outputs": [
    {
     "name": "stdout",
     "output_type": "stream",
     "text": [
      "_________________________________________________________________\n",
      "Layer (type)                 Output Shape              Param #   \n",
      "=================================================================\n",
      "embedding_2 (Embedding)      (None, 500, 32)           160000    \n",
      "_________________________________________________________________\n",
      "flatten_2 (Flatten)          (None, 16000)             0         \n",
      "_________________________________________________________________\n",
      "dense_3 (Dense)              (None, 250)               4000250   \n",
      "_________________________________________________________________\n",
      "dense_4 (Dense)              (None, 1)                 251       \n",
      "=================================================================\n",
      "Total params: 4,160,501\n",
      "Trainable params: 4,160,501\n",
      "Non-trainable params: 0\n",
      "_________________________________________________________________\n",
      "None\n"
     ]
    }
   ],
   "source": [
    "# create model\n",
    "model = Sequential()\n",
    "model.add(Embedding(top_words, 32, input_length=max_words))\n",
    "model.add(Flatten())\n",
    "model.add(Dense(250, activation='relu'))\n",
    "model.add(Dense(1, activation='sigmoid'))\n",
    "# compile model\n",
    "model.compile(loss='binary_crossentropy', optimizer='adam', metrics=['accuracy'])\n",
    "print(model.summary())"
   ]
  },
  {
   "cell_type": "markdown",
   "metadata": {},
   "source": [
    "Giờ chúng ta có thể fit mô hình và bộ test như validation trong quá trình train. Mô hình này overfit rất nhanh nên chỉ dùng 2 epoch. Vì có nhiều dữ liệu nên ta dùng batch_size = 128. Sau khi train ta đánh giá độ chính xác trên tập test."
   ]
  },
  {
   "cell_type": "code",
   "execution_count": 21,
   "metadata": {},
   "outputs": [
    {
     "name": "stdout",
     "output_type": "stream",
     "text": [
      "Train on 25000 samples, validate on 25000 samples\n",
      "Epoch 1/2\n",
      "25000/25000 [==============================] - 3s 102us/step - loss: 0.4859 - acc: 0.7397 - val_loss: 0.3076 - val_acc: 0.8686\n",
      "Epoch 2/2\n",
      "25000/25000 [==============================] - 2s 81us/step - loss: 0.1815 - acc: 0.9320 - val_loss: 0.3032 - val_acc: 0.8772\n",
      "Accuracy: 87.72%\n"
     ]
    }
   ],
   "source": [
    "# fit model\n",
    "model.fit(X_train, y_train, validation_data=(X_test, y_test), batch_size=128, epochs=2, verbose=1)\n",
    "# Final evaluation of the model\n",
    "scores = model.evaluate(X_test, y_test, verbose=0)\n",
    "print('Accuracy: %.2f%%' % (scores[1]*100))"
   ]
  },
  {
   "cell_type": "markdown",
   "metadata": {},
   "source": [
    "Với một mô hình rất đơn giản, ta đã được được đến độ chính xác đến 87.72%. Ta mong đợi rằng, ta có thể làm tốt hơn khi sử dụng embedding layer và các hidden layer lớn hơn."
   ]
  },
  {
   "cell_type": "markdown",
   "metadata": {},
   "source": [
    "## IV. One-Dimensional Convolutional Neural Network"
   ]
  },
  {
   "cell_type": "markdown",
   "metadata": {},
   "source": [
    "CNN được thiết kế để vinh danh cấu trúc không gian trong dữ liệu hình ảnh, trong khi mạnh về vị trí và định hướng đối tượng học qua phân cảnh. Cũng cùng nguyên tắc này có thể được sử dụng trong sequences, như sequence 1 chiều các từ trong bình luận phim.\n",
    "\n",
    "Cùng yếu tố đó khiến mô hình CNN hấp dẫn cho việc học để nhận dạng đối tượng trong hình ảnh, có thể giúp để học cấu trúc đoạn văn các từ, đó là kĩ thuật bất biến để cụ thể hóa vị trí của các features."
   ]
  },
  {
   "cell_type": "code",
   "execution_count": 23,
   "metadata": {},
   "outputs": [],
   "source": [
    "del model"
   ]
  },
  {
   "cell_type": "code",
   "execution_count": 22,
   "metadata": {},
   "outputs": [],
   "source": [
    "# CNN for the IMDB problem\n",
    "import numpy as np\n",
    "from keras.models import Sequential\n",
    "from keras.layers import Dense, Flatten\n",
    "from keras.layers.convolutional import Conv1D, MaxPooling1D\n",
    "from keras.layers.embeddings import Embedding\n",
    "from keras.preprocessing import sequence\n",
    "# fix random seed for reproducibility\n",
    "seed = 7\n",
    "np.random.seed(seed)"
   ]
  },
  {
   "cell_type": "markdown",
   "metadata": {},
   "source": [
    "Load dữ liệu IMDB giống như đã làm ở trên"
   ]
  },
  {
   "cell_type": "code",
   "execution_count": 24,
   "metadata": {},
   "outputs": [],
   "source": [
    "# load the dataset but only keep the top n words, zero the rest\n",
    "top_words = 5000\n",
    "(X_train, y_train), (X_test, y_test)= imdb.load_data(num_words=top_words)\n",
    "# pad dataset to a maximum review length in words\n",
    "max_words = 500\n",
    "X_train = sequence.pad_sequences(X_train, maxlen=max_words)\n",
    "X_test = sequence.pad_sequences(X_test, maxlen=max_words)"
   ]
  },
  {
   "cell_type": "markdown",
   "metadata": {},
   "source": [
    "Giờ chúng ta định ra mô hình CNN. Sau input layer **Embedding**, ta chèn vào một Convolutional Layer 1D (**Conv1D**). Convolutional layer này có 32 features map và đọc các embedded word đại diện cho 3 phần tử của vector của word embedding đó trong mỗi lần. Theo sau là một Maxpooling layer 1D với độ dài là 2 chia đôi kích cỡ feature map của convolutional layer trước đó. Và phần còn lại y như ở trên."
   ]
  },
  {
   "cell_type": "code",
   "execution_count": 25,
   "metadata": {},
   "outputs": [
    {
     "name": "stdout",
     "output_type": "stream",
     "text": [
      "_________________________________________________________________\n",
      "Layer (type)                 Output Shape              Param #   \n",
      "=================================================================\n",
      "embedding_3 (Embedding)      (None, 500, 32)           160000    \n",
      "_________________________________________________________________\n",
      "conv1d_1 (Conv1D)            (None, 500, 32)           3104      \n",
      "_________________________________________________________________\n",
      "max_pooling1d_1 (MaxPooling1 (None, 250, 32)           0         \n",
      "_________________________________________________________________\n",
      "flatten_3 (Flatten)          (None, 8000)              0         \n",
      "_________________________________________________________________\n",
      "dense_5 (Dense)              (None, 250)               2000250   \n",
      "_________________________________________________________________\n",
      "dense_6 (Dense)              (None, 1)                 251       \n",
      "=================================================================\n",
      "Total params: 2,163,605\n",
      "Trainable params: 2,163,605\n",
      "Non-trainable params: 0\n",
      "_________________________________________________________________\n",
      "None\n"
     ]
    }
   ],
   "source": [
    "# create model\n",
    "model = Sequential()\n",
    "model.add(Embedding(top_words, 32, input_length=max_words))\n",
    "model.add(Conv1D(filters=32, kernel_size=3, padding='same', activation='relu'))\n",
    "model.add(MaxPooling1D(pool_size=2))\n",
    "model.add(Flatten())\n",
    "model.add(Dense(250, activation='relu'))\n",
    "model.add(Dense(1, activation='sigmoid'))\n",
    "# compile model\n",
    "model.compile(loss='binary_crossentropy', optimizer='adam', metrics=['accuracy'])\n",
    "print(model.summary())"
   ]
  },
  {
   "cell_type": "markdown",
   "metadata": {},
   "source": [
    "Fit model y như ở trên."
   ]
  },
  {
   "cell_type": "code",
   "execution_count": 26,
   "metadata": {},
   "outputs": [
    {
     "name": "stdout",
     "output_type": "stream",
     "text": [
      "Train on 25000 samples, validate on 25000 samples\n",
      "Epoch 1/2\n",
      " - 5s - loss: 0.4793 - acc: 0.7382 - val_loss: 0.2817 - val_acc: 0.8834\n",
      "Epoch 2/2\n",
      " - 2s - loss: 0.2234 - acc: 0.9118 - val_loss: 0.2773 - val_acc: 0.8834\n",
      "Accuracy 88.34%\n"
     ]
    }
   ],
   "source": [
    "#fit model\n",
    "model.fit(X_train, y_train, validation_data=(X_test, y_test), epochs=2, batch_size=128 ,verbose=2 )\n",
    "# final evaluation of the model\n",
    "scores = model.evaluate(X_test, y_test, verbose=0)\n",
    "print('Accuracy %.2f%%' % (scores[1]*100))"
   ]
  },
  {
   "cell_type": "markdown",
   "metadata": {},
   "source": [
    "Chỉ cần thay đổi một chút nhỏ nhưng điểm của mô hình đã được cải thiện tốt (từ 87.72 lên 88.34).<br>\n",
    "Vẫn còn nhiều cơ hội để chúng ta tối ưu hóa xa hơn nữa. Như sử dụng deeper hoặc larger các convolutional layers. Một ý tưởng thú vị là chỉnh MaxPooling layer để sử dụng input với độ dài là 500. Điều này có thể nén các feature map thành một vector đơn có độ dài 32 và có thể tăng khả năng biểu diễn."
   ]
  },
  {
   "cell_type": "markdown",
   "metadata": {},
   "source": [
    "**Thử nghiệm ý tưởng trên**"
   ]
  },
  {
   "cell_type": "code",
   "execution_count": 55,
   "metadata": {},
   "outputs": [
    {
     "name": "stdout",
     "output_type": "stream",
     "text": [
      "_________________________________________________________________\n",
      "Layer (type)                 Output Shape              Param #   \n",
      "=================================================================\n",
      "embedding_30 (Embedding)     (None, 500, 32)           160000    \n",
      "_________________________________________________________________\n",
      "conv1d_39 (Conv1D)           (None, 500, 32)           3104      \n",
      "_________________________________________________________________\n",
      "max_pooling1d_29 (MaxPooling (None, 500, 32)           0         \n",
      "_________________________________________________________________\n",
      "flatten_30 (Flatten)         (None, 16000)             0         \n",
      "_________________________________________________________________\n",
      "dense_42 (Dense)             (None, 500)               8000500   \n",
      "_________________________________________________________________\n",
      "dense_43 (Dense)             (None, 1)                 501       \n",
      "=================================================================\n",
      "Total params: 8,164,105\n",
      "Trainable params: 8,164,105\n",
      "Non-trainable params: 0\n",
      "_________________________________________________________________\n",
      "None\n",
      "Train on 25000 samples, validate on 25000 samples\n",
      "Epoch 1/2\n",
      " - 5s - loss: 0.5064 - acc: 0.7018 - val_loss: 0.2787 - val_acc: 0.8840\n",
      "Epoch 2/2\n",
      " - 4s - loss: 0.2157 - acc: 0.9159 - val_loss: 0.2673 - val_acc: 0.8896\n",
      "Accuracy 88.96%\n"
     ]
    }
   ],
   "source": [
    "del model\n",
    "# create model\n",
    "from keras.layers import Dropout\n",
    "model = Sequential()\n",
    "model.add(Embedding(top_words, 32, input_length=max_words))\n",
    "model.add(Conv1D(filters=32, kernel_size=3, padding='same', activation='relu'))\n",
    "model.add(MaxPooling1D(pool_size=1)) # Sử dụng độ dài tối đa của input\n",
    "model.add(Flatten())\n",
    "model.add(Dense(500, activation='relu')) # larger layer\n",
    "model.add(Dense(1, activation='sigmoid'))\n",
    "# compile model\n",
    "model.compile(loss='binary_crossentropy', optimizer='adam', metrics=['accuracy'])\n",
    "print(model.summary())\n",
    "\n",
    "#fit model\n",
    "model.fit(X_train, y_train, validation_data=(X_test, y_test), epochs=2, batch_size=128 ,verbose=2 )\n",
    "# final evaluation of the model\n",
    "scores = model.evaluate(X_test, y_test, verbose=0)\n",
    "print('Accuracy %.2f%%' % (scores[1]*100))"
   ]
  },
  {
   "cell_type": "code",
   "execution_count": 49,
   "metadata": {},
   "outputs": [],
   "source": [
    "del model"
   ]
  }
 ],
 "metadata": {
  "kernelspec": {
   "display_name": "Python 3",
   "language": "python",
   "name": "python3"
  },
  "language_info": {
   "codemirror_mode": {
    "name": "ipython",
    "version": 3
   },
   "file_extension": ".py",
   "mimetype": "text/x-python",
   "name": "python",
   "nbconvert_exporter": "python",
   "pygments_lexer": "ipython3",
   "version": "3.7.3"
  }
 },
 "nbformat": 4,
 "nbformat_minor": 2
}
