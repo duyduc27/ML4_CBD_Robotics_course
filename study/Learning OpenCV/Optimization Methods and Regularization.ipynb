{
 "cells": [
  {
   "cell_type": "markdown",
   "metadata": {},
   "source": [
    "\"Gần như sức mạnh mọi deep learning là từ thuật toán rất quan trọng Stochastic Gradient Descent (SGD)\" Ian Goodfellow<br><br>\n",
    "Giờ chúng ta đi sang một phần quan trọng nhất của machine learning,  neural networks, và deep learning là **tối ưu hóa**. Các thuật toán tối ưu hóa là sức mạnh cho các mạng nơ-ron có thể học các khuôn mẫu từ dữ liệu. Mà qua những kiến thức đã học, ta biết được rằng để mô hình phân loại có độ chính xác cao phụ thuộc vào việc tìm ra bộ trọng số **W** và bias vector **b** theo đó các data points được phân loại chính xác.<br>\n",
    "Nhưng làm sao để tìm và có được ma trận trọng số **W** và bias vector **b**? Liệu ta có thể khởi tạo chúng ngẫu nhiên và thử lặp đi lặp lại nhiều lần đến khi có được bộ tham số phù hợp cho mô hình phân loại? Có thể -nhưng các mạng deep learning hiện đại có đến 10 triệu tham số, mò mẫm tìm sẽ rất mất thời gian.<br>\n",
    "Thay vì dựa trên những gì thuần về ngẫu nhiên, ta cần định ra một thuật toán tối ưu, trong đó ta cải thiện **W** và **b**.<br>\n",
    "Trong phần này ta sẽ đi tìm hiểu thuật toán bổ biến nhất được dùng trong mạng nơ-ron và các mô hình deep learning: thuật toán Gradient Descent. Thuật toán này có nhiều biến thể nhưng ý tưởng là như nhau: tương tác đánh giá bộ tham số, tính toán loss và thêm những bước nhỏ khác để điều chỉnh hướng giảm loss."
   ]
  },
  {
   "cell_type": "markdown",
   "metadata": {},
   "source": [
    "# I. Gradient Descent"
   ]
  },
  {
   "cell_type": "markdown",
   "metadata": {},
   "source": [
    "Thuật toán Gradient Descent có 2 \"mùi vị\" chính:\n",
    "- Chuẩn \"Vanilla\"\n",
    "- Tối ưu hóa \"Stochastic\""
   ]
  },
  {
   "cell_type": "markdown",
   "metadata": {},
   "source": [
    "## 1.1 The Loss Landscape and Optimization Surface"
   ]
  },
  {
   "cell_type": "markdown",
   "metadata": {},
   "source": [
    "Phương pháp Gradient Descent là thuật toán tối ưu lặp lại trên một loss landscape (hay còn gọi là bề mặt tối ưu). Thuật toán này được minh họa với các trọng số theo trục x và loss cho bộ trọng số đã cho đi theo trục y<br>\n",
    "<img src=\"https://i.imgur.com/mA6HxiL.png\" />\n",
    "Như chúng ta có thể thấy bề mặt của chúng ta có những điểm lồi và lõm. Những điểm lồi lên là local maximum đại diện cho vùng có loss cao. Và ngược lại những điểm lõm xuống là local minimum đại diện cho vùng có loss thấp. Điểm mà có chỗ đó landscape có loss thấp nhất trong các điểm gọi là global minimum. Lý tưởng là ta tìm được điểm này (tương ứng với bộ thông số) thì bộ thông số tối ưu là tốt nhất.<br>\n",
    "Câu hỏi đặt ra là: \"Tại sao không vào thẳng điểm global minimum này mà phải tìm? Chẳng phải nó rõ ràng trên hình vậy sao?\"  Vấn đề là ta không thể biết trước được hình thù của loss landscape. Nếu chúng ta có một thuật toán tối ưu hóa, chúng phải sẽ phải mò mẫm chỗ nào đó trên biểu đồ và không biết được landscape tiếp theo trông như thế nào. Và chúng ta sẽ phài tìm được đến điểm có local loss minimum nếu không muốn đi nhầm sang local loss maximum.<br>\n",
    "Vấn đề là hình trên mới có 2 chiều, trong khi bài toán phức tạp có thể có rất nhiều chiều (hàng 10, hàng 100 đến hàng 1000 chiều). Ví dụ ở cái tô bên phải. Mỗi điểm trên bề mặt của nó tương ứng với một loss riêng của bộ tham số ma trận trọng số **W** và bias vector **b**. Mục đích của chúng ta là thử các bộ tham số này có giá trị khác nhau để đánh giá loss, sau đó từng bước tìm giá trị tối ưu hóa tốt hơn để giảm loss."
   ]
  },
  {
   "cell_type": "markdown",
   "metadata": {},
   "source": [
    "## 1.2 The “Gradient” in Gradient Descent"
   ]
  },
  {
   "cell_type": "markdown",
   "metadata": {},
   "source": [
    "Cái \"đồi\" trong Gradient Descent là ma trận trọng số **W**. Chúng ta sẽ đi ngẫu nhiên từ điểm nào đó trên loss landscape, từ đó đi theo đường slope của gradient **W**"
   ]
  },
  {
   "cell_type": "markdown",
   "metadata": {},
   "source": [
    "Gradient Descent là việc cố gắng tối ưu hóa tham số để giảm loss và tăng độ chính xác phân loại qua tiến trình lặp lại chỉnh hướng tiến đến vị trí có minimize loss"
   ]
  },
  {
   "cell_type": "markdown",
   "metadata": {},
   "source": [
    "## 1.3 Treat It Like a Convex Problem (Even if It’s Not)"
   ]
  },
  {
   "cell_type": "markdown",
   "metadata": {},
   "source": [
    "Chúng ta sẽ coi loss landscape như một bề mặt lồi, tức là mọi điểm local minimum cũng là global minimum mặc dù thực tế không phải. Giống như hình minh họa cái tô vậy, thuật toán sẽ đơn giản đi từ phần đỉnh và chầm chậm giảm gradient cho tới khi chạm dưới cùng. Chúng ta có thể không tìm được điểm local minimum nhưng bởi vì như vậy là cũng đủ tốt rồi.<br>\n",
    "\"Một thuật toán tối ưu có thể không đảm bảo được đến được điểm local minimum với thời gian hợp lý, mà thường nhanh chóng tìm một điểm có giá trị loss function thấp đủ để hữu ích.<br>\n",
    "Chúng ta thường kì vọng lớn rằng sẽ tìm được điểm local minimum hay global minium nhưng thực tế hiếm khi xảy ra. Thay vào đó ta dừng ở điểm có loss thấp - điểm này có thể còn không phải local minimum, nhưng trong thực tiễn thì như vậy là cũng đủ tốt."
   ]
  },
  {
   "cell_type": "markdown",
   "metadata": {},
   "source": [
    "## 1.4 The Bias Trick"
   ]
  },
  {
   "cell_type": "markdown",
   "metadata": {},
   "source": [
    "Hàm chấm điểm gồm bộ tham số ma trận trọng số **W** và bias vector **b**. Nhưng vì việc theo dõi 2 biến riêng biệt nên rất khó khăn nên có một kĩ thuật gọi là bias trick, kết hợp W và b lại với nhau. Để kết hợp thì ta phải thêm một cột vào data input X chứa hằng số 1, đây là chiều bias của chúng ta.<br>\n",
    "$f(x_i, W) = W.x_i$<br>\n",
    "<img src=\"https://i.imgur.com/gqD5tQ9.png\" />\n",
    "Ví dụ ở trong ngữ cảnh là tập data \"chó, mèo, gấu trúc\" thì một hình có 32x32x3 =3072 pixels. Mỗi $x_i$ đại diện cho một vector [3072 x 1]. Thêm một chiều với hằng số 1 thì thành vector [3073 x1]"
   ]
  },
  {
   "cell_type": "markdown",
   "metadata": {},
   "source": [
    "## 1.5 Pseudocode for Gradient Descent"
   ]
  },
  {
   "cell_type": "code",
   "execution_count": null,
   "metadata": {},
   "outputs": [],
   "source": [
    "while True:\n",
    "    Wgradient = evaluate_gradient(loss, data, W)\n",
    "    W += -alpha * Wgradient"
   ]
  },
  {
   "cell_type": "markdown",
   "metadata": {},
   "source": [
    "pseudocode ở trên tương tự với nhiều biến thể của gradient descent. \n",
    "- dòng 1 gồm các điều kiện để lặp như chạy bao nhiêu epoch, loss bao nhiêu là thích hợp, loss không cải thiện sau bao nhiêu epoch là dừng\n",
    "- dòng 2 là một hàm đánh giá gradient, hàm này trả về một vector k-chiều với k là số chiều của hình ảnh hay feature vector. \n",
    "- dòng 3 là ứng dụng Gradient Descent, với alpha là learning rate - kiểm soát tốc độ học của mô hình. Nếu alpha quá lớn, thì điểm sẽ bi nẩy qua 2 bên của loss landscape. Nếu quá nhỏ thì sẽ mất nhiều thời gian để đến được điểm ở dưới."
   ]
  },
  {
   "cell_type": "markdown",
   "metadata": {},
   "source": [
    "## 1.6 Implementing Basic Gradient Descent in Python"
   ]
  },
  {
   "cell_type": "code",
   "execution_count": 2,
   "metadata": {},
   "outputs": [],
   "source": [
    "# import the necessary packages\n",
    "from sklearn.model_selection import train_test_split\n",
    "from sklearn.metrics import classification_report\n",
    "from sklearn.datasets import make_blobs\n",
    "import matplotlib.pyplot as plt\n",
    "import numpy as np\n",
    "\n",
    "def sigmoid_activation(x):\n",
    "    # compute the sigmoid activation value for a given input\n",
    "    return 1.0/(1 + np.exp(-x))"
   ]
  },
  {
   "cell_type": "markdown",
   "metadata": {},
   "source": [
    "Sigmoid activation là hàm activation có hình chữ S, chia tách nhau ở 0.5. Ví dụ trên 0.5 là nhãn A, nhỏ hơn hoặc bằng là nhãn B. Activation này thiên về phân loại dữ liệu có 2 class"
   ]
  },
  {
   "cell_type": "code",
   "execution_count": 3,
   "metadata": {},
   "outputs": [],
   "source": [
    "def predict(X, W): #scoring function\n",
    "    # take the dot product between our features and weight matrix\n",
    "    preds = sigmoid_activation(X.dot(W))\n",
    "    \n",
    "    # apply a step function to threshold the outputs to binary\n",
    "    # class labels\n",
    "    preds[preds <=0.5] = 0\n",
    "    preds[preds > 0.5] = 1\n",
    "    return preds"
   ]
  },
  {
   "cell_type": "markdown",
   "metadata": {},
   "source": [
    "tạo dữ liệu có phân phối chuẩn, gồm 1000 phần tử, 2 nhãn. Data này 2 chiều"
   ]
  },
  {
   "cell_type": "code",
   "execution_count": 4,
   "metadata": {},
   "outputs": [],
   "source": [
    "# generate a 2-class classification problem with 1,000 data points,\n",
    "# where each data point is a 2D feature vector\n",
    "(X, y) = make_blobs(n_samples=1000, n_features=2, centers=2, cluster_std=1.5, random_state=1)"
   ]
  },
  {
   "cell_type": "code",
   "execution_count": 5,
   "metadata": {},
   "outputs": [
    {
     "data": {
      "text/plain": [
       "(1000, 2)"
      ]
     },
     "execution_count": 5,
     "metadata": {},
     "output_type": "execute_result"
    }
   ],
   "source": [
    "X.shape"
   ]
  },
  {
   "cell_type": "code",
   "execution_count": 6,
   "metadata": {},
   "outputs": [
    {
     "data": {
      "text/plain": [
       "(1000,)"
      ]
     },
     "execution_count": 6,
     "metadata": {},
     "output_type": "execute_result"
    }
   ],
   "source": [
    "y.shape"
   ]
  },
  {
   "cell_type": "markdown",
   "metadata": {},
   "source": [
    "Áp dụng kĩ thuật \"bias trick\" thêm cột mới vào data input là cột các số 1 để gộp chung W và b và khỏi phải theo dõi bias vector b. Holdout chia train test 50%"
   ]
  },
  {
   "cell_type": "code",
   "execution_count": 7,
   "metadata": {},
   "outputs": [],
   "source": [
    "y = y.reshape((y.shape[0], 1))\n",
    "# insert a column of 1’s as the last entry in the feature\n",
    "# matrix -- this little trick allows us to treat the bias\n",
    "# as a trainable parameter within the weight matrix\n",
    "X = np.c_[X, np.ones((X.shape[0]))]\n",
    "\n",
    "# partition the data into training and testing splits using 50% of\n",
    "# the data for training and the remaining 50% for testing\n",
    "(trainX, testX, trainY, testY) = train_test_split(X, y, test_size=0.5, random_state=42)"
   ]
  },
  {
   "cell_type": "code",
   "execution_count": 8,
   "metadata": {},
   "outputs": [
    {
     "data": {
      "text/plain": [
       "(500, 3)"
      ]
     },
     "execution_count": 8,
     "metadata": {},
     "output_type": "execute_result"
    }
   ],
   "source": [
    "trainX.shape"
   ]
  },
  {
   "cell_type": "code",
   "execution_count": 9,
   "metadata": {},
   "outputs": [
    {
     "data": {
      "text/plain": [
       "(500, 1)"
      ]
     },
     "execution_count": 9,
     "metadata": {},
     "output_type": "execute_result"
    }
   ],
   "source": [
    "trainY.shape"
   ]
  },
  {
   "cell_type": "code",
   "execution_count": 10,
   "metadata": {},
   "outputs": [
    {
     "data": {
      "text/plain": [
       "(1000, 3)"
      ]
     },
     "execution_count": 10,
     "metadata": {},
     "output_type": "execute_result"
    }
   ],
   "source": [
    "X.shape"
   ]
  },
  {
   "cell_type": "markdown",
   "metadata": {},
   "source": [
    "Khởi tạo ngẫu nhiên ma trận trọng số theo phân phối chuẩn. **Có cùng số chiều của output features**"
   ]
  },
  {
   "cell_type": "code",
   "execution_count": 11,
   "metadata": {},
   "outputs": [],
   "source": [
    "W = np.random.randn(X.shape[1], 1) # cùng số chiều của X (3 chiều)\n",
    "losses= []"
   ]
  },
  {
   "cell_type": "code",
   "execution_count": 12,
   "metadata": {},
   "outputs": [
    {
     "data": {
      "text/plain": [
       "array([[-0.10162924],\n",
       "       [-0.06722859],\n",
       "       [-0.94822955]])"
      ]
     },
     "execution_count": 12,
     "metadata": {},
     "output_type": "execute_result"
    }
   ],
   "source": [
    "W # initial weight"
   ]
  },
  {
   "cell_type": "markdown",
   "metadata": {},
   "source": [
    "W có khởi tạo tốt là một điểm then chốt để việc train mô hình mất ít thời gian. "
   ]
  },
  {
   "cell_type": "code",
   "execution_count": 13,
   "metadata": {},
   "outputs": [
    {
     "name": "stdout",
     "output_type": "stream",
     "text": [
      "[INFO] epoch=1, loss=61.45078876567517\n",
      "[INFO] epoch=5, loss=9.029228586008735\n",
      "[INFO] epoch=10, loss=6.454834237093994\n",
      "[INFO] epoch=15, loss=3.179128184255932\n",
      "[INFO] epoch=20, loss=1.2041196861851176\n",
      "[INFO] epoch=25, loss=0.47043652814649906\n",
      "[INFO] epoch=30, loss=0.19815311708133654\n",
      "[INFO] epoch=35, loss=0.10310996639018245\n",
      "[INFO] epoch=40, loss=0.06493382859659247\n",
      "[INFO] epoch=45, loss=0.04656253417192351\n",
      "[INFO] epoch=50, loss=0.03633938606811522\n",
      "[INFO] epoch=55, loss=0.029993829790076847\n",
      "[INFO] epoch=60, loss=0.02571761742083575\n",
      "[INFO] epoch=65, loss=0.022649255800972004\n",
      "[INFO] epoch=70, loss=0.020337746786203367\n",
      "[INFO] epoch=75, loss=0.018528364157938817\n",
      "[INFO] epoch=80, loss=0.01706802698503988\n",
      "[INFO] epoch=85, loss=0.015859882381425827\n",
      "[INFO] epoch=90, loss=0.014839945630147493\n",
      "[INFO] epoch=95, loss=0.013964364142385699\n",
      "[INFO] epoch=100, loss=0.013202119992267928\n"
     ]
    }
   ],
   "source": [
    "alpha = 0.01\n",
    "epochs = 100\n",
    "# loop over the desired number of epochs\n",
    "for epoch in np.arange(0, epochs):\n",
    "    # take the dot product between our features ‘X‘ and the weight\n",
    "    # matrix ‘W‘, then pass this value through our sigmoid activation\n",
    "    # function, thereby giving us our predictions on the dataset\n",
    "    preds = sigmoid_activation(trainX.dot(W))\n",
    "\n",
    "    # now that we have our predictions, we need to determine the\n",
    "    # ‘error‘, which is the difference between our predictions and\n",
    "    # the true values\n",
    "    error = preds - trainY\n",
    "    loss = np.sum(error**2)\n",
    "    losses.append(loss)\n",
    "    # the gradient descent update is the dot product between our\n",
    "    # features and the error of the predictions\n",
    "    gradient = trainX.T.dot(error)\n",
    "    # in the update stage, all we need to do is \"nudge\" the weight\n",
    "    # matrix in the negative direction of the gradient (hence the\n",
    "    # term \"gradient descent\" by taking a small step towards a set\n",
    "    # of \"more optimal\" parameters\n",
    "    W += -alpha*gradient # Update weight\n",
    "    \n",
    "    # check to see if an update should be displayed\n",
    "    if epoch ==0 or (epoch +1)%5 ==0:\n",
    "        print(\"[INFO] epoch={}, loss={}\".format(int(epoch+1), loss))"
   ]
  },
  {
   "cell_type": "markdown",
   "metadata": {},
   "source": [
    "**Evaluate model**"
   ]
  },
  {
   "cell_type": "code",
   "execution_count": 14,
   "metadata": {},
   "outputs": [
    {
     "name": "stdout",
     "output_type": "stream",
     "text": [
      "              precision    recall  f1-score   support\n",
      "\n",
      "           0       1.00      0.99      1.00       250\n",
      "           1       0.99      1.00      1.00       250\n",
      "\n",
      "    accuracy                           1.00       500\n",
      "   macro avg       1.00      1.00      1.00       500\n",
      "weighted avg       1.00      1.00      1.00       500\n",
      "\n"
     ]
    }
   ],
   "source": [
    "preds = predict(testX, W)\n",
    "print(classification_report(testY, preds))"
   ]
  },
  {
   "cell_type": "markdown",
   "metadata": {},
   "source": [
    "**Plot**"
   ]
  },
  {
   "cell_type": "code",
   "execution_count": 22,
   "metadata": {},
   "outputs": [
    {
     "data": {
      "text/plain": [
       "array([[ -7.22536245,  -2.570183  ,   1.        ],\n",
       "       [  0.78797736,   5.69782673,   1.        ],\n",
       "       [ -1.88941415,   0.7577271 ,   1.        ],\n",
       "       [ -1.8617496 ,   5.9803173 ,   1.        ],\n",
       "       [-10.93739732,  -5.93113231,   1.        ]])"
      ]
     },
     "execution_count": 22,
     "metadata": {},
     "output_type": "execute_result"
    }
   ],
   "source": [
    "testX[0:5]"
   ]
  },
  {
   "cell_type": "code",
   "execution_count": 19,
   "metadata": {},
   "outputs": [
    {
     "data": {
      "image/png": "[encoded data removed]",
      "text/plain": [
       "<Figure size 432x288 with 1 Axes>"
      ]
     },
     "metadata": {},
     "output_type": "display_data"
    },
    {
     "data": {
      "image/png": "[encoded data removed]",
      "text/plain": [
       "<Figure size 432x288 with 1 Axes>"
      ]
     },
     "metadata": {},
     "output_type": "display_data"
    }
   ],
   "source": [
    "# Plot the testing classification data\n",
    "plt.style.use(\"ggplot\")\n",
    "plt.figure()\n",
    "plt.title(\"Data\")\n",
    "plt.scatter(testX[:,0], testX[:,1], marker=\".\", c=testY.reshape((500,)), s=30)\n",
    "# x-axis: lấy value cột 0\n",
    "# y-axis: lấy value cột 1\n",
    "# c=testY.reshape((500,)) đổi màu value theo tính chất của testY\n",
    "\n",
    "# construct a figure that plots the loss over time\n",
    "plt.style.use(\"ggplot\")\n",
    "plt.figure()\n",
    "plt.plot(np.arange(0, epochs), losses)\n",
    "plt.title(\"Training Loss\")\n",
    "plt.xlabel(\"Epoch #\")\n",
    "plt.ylabel(\"Loss\")\n",
    "plt.show()"
   ]
  },
  {
   "cell_type": "markdown",
   "metadata": {},
   "source": [
    "Biểu đồ \"Data\" minh họa dữ liệu của test set, ta có thể thấy ở hình này dường như có một bounder line phân cách 2 cụm (nhãn 0 và 1)<br>\n",
    "Biểu đồ \"Training Loss\" cho thấy ma trận trọng số W đã được cập nhật và classifier của chúng ta đã được học. Tuy nhiên bảng báo cáo phân loại không nhất quán bởi \"vanilla\" gradient descent chỉ thực hiện update weight mỗi epoch 1 lần. Và dựa vào khởi tạo của ma trận trọng số và tốc độ học alpha. Nó vẫn có khả năng ta học được một mô hình chia tách các điểm."
   ]
  }
 ],
 "metadata": {
  "kernelspec": {
   "display_name": "Python 3",
   "language": "python",
   "name": "python3"
  },
  "language_info": {
   "codemirror_mode": {
    "name": "ipython",
    "version": 3
   },
   "file_extension": ".py",
   "mimetype": "text/x-python",
   "name": "python",
   "nbconvert_exporter": "python",
   "pygments_lexer": "ipython3",
   "version": "3.6.6"
  }
 },
 "nbformat": 4,
 "nbformat_minor": 2
}
