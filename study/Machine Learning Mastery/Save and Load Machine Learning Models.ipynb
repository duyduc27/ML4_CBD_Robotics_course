{
 "cells": [
  {
   "cell_type": "markdown",
   "metadata": {},
   "source": [
    "Tìm ra độ chính xác của mô hình machine learning chưa phải điểm kết thúc của dự án. Vậy làm sao để save và load mô hình machine learning của bạn trong Python?\n",
    "- Tầm quan trọng của làm một chuỗi mô hình để tái sử dụng\n",
    "- Sử dụng pickle để nén và mở các mô hình machine learning\n",
    "- Sử dụng joblib để nén và mở các mô hình machine learning"
   ]
  },
  {
   "cell_type": "markdown",
   "metadata": {},
   "source": [
    "### I. Finalize Your Model with pickle"
   ]
  },
  {
   "cell_type": "code",
   "execution_count": 24,
   "metadata": {},
   "outputs": [
    {
     "name": "stdout",
     "output_type": "stream",
     "text": [
      "0.7559055118110236\n"
     ]
    }
   ],
   "source": [
    "# Save Model Using Pickle\n",
    "import pandas as pd\n",
    "from sklearn.model_selection import train_test_split\n",
    "from sklearn.linear_model import LogisticRegression\n",
    "import pickle\n",
    "\n",
    "names = ['preg', 'plas', 'pres', 'skin', 'test', 'mass', 'pedi', 'age', 'class']\n",
    "dataframe = pd.read_csv('pima-indians-diabetes.csv', names=names)\n",
    "array = dataframe.values\n",
    "X = array[:, :8] # input\n",
    "Y = array[:, 8] # output\n",
    "test_size = 0.33\n",
    "seed = 7\n",
    "\n",
    "# hold oout\n",
    "X_train, X_test, Y_train, Y_test = train_test_split(X, Y, test_size=test_size, random_state=seed)\n",
    "# Fit the model on 33%\n",
    "model = LogisticRegression(solver='liblinear')\n",
    "model.fit(X_train, Y_train)\n",
    "# save the model to disk\n",
    "filename = 'finalized_model1.sav'\n",
    "pickle.dump(model, open(filename, 'wb'))\n",
    "\n",
    "# some time later\n",
    "\n",
    "# load the model\n",
    "loaded_model = pickle.load(open(filename, 'rb'))\n",
    "result = loaded_model.score(X_test, Y_test)\n",
    "print(result)"
   ]
  },
  {
   "cell_type": "markdown",
   "metadata": {},
   "source": [
    "### II. Finalize Your Model with joblib"
   ]
  },
  {
   "cell_type": "code",
   "execution_count": 25,
   "metadata": {},
   "outputs": [
    {
     "name": "stdout",
     "output_type": "stream",
     "text": [
      "0.7559055118110236\n"
     ]
    }
   ],
   "source": [
    "# Save Model Using joblib\n",
    "from sklearn.externals import joblib\n",
    "\n",
    "# save the model to disk\n",
    "filename = 'finalized_model2.sav'\n",
    "joblib.dump(model, filename)\n",
    "\n",
    "# some time later...\n",
    "\n",
    "# load the model from disk\n",
    "loaded_model = joblib.load(filename)\n",
    "result = loaded_model.score(X_test, Y_test)\n",
    "print(result)"
   ]
  },
  {
   "cell_type": "markdown",
   "metadata": {},
   "source": [
    "### III. Split your test set for testing the model"
   ]
  },
  {
   "cell_type": "code",
   "execution_count": 26,
   "metadata": {},
   "outputs": [
    {
     "name": "stdout",
     "output_type": "stream",
     "text": [
      "0.7559055118110236\n"
     ]
    }
   ],
   "source": [
    "# Ở bước này không tạo ra model mà đơn thuần tách riêng tập test và kiểm thử load model\n",
    "from sklearn.externals import joblib\n",
    "# Load data\n",
    "names = ['preg', 'plas', 'pres', 'skin', 'test', 'mass', 'pedi', 'age', 'class']\n",
    "dataframe = pd.read_csv('pima-indians-diabetes.csv', names=names)\n",
    "array = dataframe.values\n",
    "X = array[:, :8] # input\n",
    "Y = array[:, 8] # output\n",
    "# test harness\n",
    "test_size = 0.33\n",
    "seed = 7\n",
    "# hold out\n",
    "X_train, X_test, Y_train, Y_test = train_test_split(X, Y, test_size=test_size, random_state=seed)\n",
    "\n",
    "# Dump test set (numpy array) into a csv file\n",
    "pd.DataFrame(X_test).to_csv('xtest.csv', header=list(range(0,8)), index=None) # tách thành csv file\n",
    "pd.DataFrame(Y_test).to_csv('ytest.csv', header=['label'], index=None) # tách thành csv file\n",
    "# còn không, holdout cả bộ dữ liệu ngay từ đầu, sau đó trích xuất thành file csv\n",
    "# đến khi load model thì, tách riêng input và output trong test set csv rồi dùng model dự đoán\n",
    "\n",
    "# load test set\n",
    "x = pd.read_csv('xtest.csv').values\n",
    "y = pd.read_csv('ytest.csv').values\n",
    "\n",
    "# load the model from disk\n",
    "loaded_model = joblib.load('finalized_model2.sav') # tên model đã được lưu từ trước\n",
    "result = loaded_model.score(x,y)\n",
    "print(result)"
   ]
  },
  {
   "cell_type": "markdown",
   "metadata": {},
   "source": [
    "**Note:** những điều cần chú ý\n",
    "- Phiên bản Python\n",
    "- Phiên bản library"
   ]
  },
  {
   "cell_type": "code",
   "execution_count": 27,
   "metadata": {},
   "outputs": [
    {
     "name": "stdout",
     "output_type": "stream",
     "text": [
      "Python: 3.6.5 |Anaconda custom (64-bit)| (default, Mar 29 2018, 13:32:41) [MSC v.1900 64 bit (AMD64)]\n",
      "numpy: 1.16.4\n",
      "pandas: 0.24.2\n",
      "sklearn: 0.21.1\n"
     ]
    }
   ],
   "source": [
    "# Check the versions of libraries\n",
    " \n",
    "# Python version\n",
    "import sys\n",
    "print('Python: {}'.format(sys.version))\n",
    "# numpy\n",
    "import numpy\n",
    "print('numpy: {}'.format(numpy.__version__))\n",
    "# pandas\n",
    "import pandas\n",
    "print('pandas: {}'.format(pandas.__version__))\n",
    "# scikit-learn\n",
    "import sklearn\n",
    "print('sklearn: {}'.format(sklearn.__version__))"
   ]
  }
 ],
 "metadata": {
  "kernelspec": {
   "display_name": "Python 3",
   "language": "python",
   "name": "python3"
  },
  "language_info": {
   "codemirror_mode": {
    "name": "ipython",
    "version": 3
   },
   "file_extension": ".py",
   "mimetype": "text/x-python",
   "name": "python",
   "nbconvert_exporter": "python",
   "pygments_lexer": "ipython3",
   "version": "3.6.5"
  }
 },
 "nbformat": 4,
 "nbformat_minor": 2
}
