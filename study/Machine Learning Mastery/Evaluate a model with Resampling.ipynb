{
 "cells": [
  {
   "cell_type": "markdown",
   "metadata": {},
   "source": [
    "# TOC:\n",
    "[I. Evaluate Machine Learning Algorithms](#I.-Evaluate-Machine-Learning-Algorithms)<br>\n",
    "[1.1 Split into Train and Test Sets (hold out)](#1.1-Split-into-Train-and-Test-Sets-(hold-out))<br>\n",
    "[1.2 K-fold Cross Validation](#1.2-K-fold-Cross-Validation)<br>\n",
    "[1.3 Leave One Out Cross Validation](#1.3-Leave-One-Out-Cross-Validation)<br>\n",
    "[1.4 Repeated Random Test-Train Splits](#1.4-Repeated-Random-Test-Train-Splits)<br>\n",
    "\n",
    "[II. Conclusions](#II.-Conclusions)"
   ]
  },
  {
   "cell_type": "markdown",
   "metadata": {},
   "source": [
    "## I. Evaluate Machine Learning Algorithms"
   ]
  },
  {
   "cell_type": "markdown",
   "metadata": {},
   "source": [
    "Không thể train và test trên cùng một dữ liệu bởi điều đó sẽ gây ra overfitting. Nên chúng ta phải đánh giá thuật toán trên dữ liệu không dùng để train.<br>\n",
    "Đánh giá ở đây là cách đo lường khi chúng ta nghĩ về việc, thuật toán sẽ hoạt động như thế nào trong thực tiễn."
   ]
  },
  {
   "cell_type": "code",
   "execution_count": 1,
   "metadata": {},
   "outputs": [
    {
     "data": {
      "text/html": [
       "<div>\n",
       "<style scoped>\n",
       "    .dataframe tbody tr th:only-of-type {\n",
       "        vertical-align: middle;\n",
       "    }\n",
       "\n",
       "    .dataframe tbody tr th {\n",
       "        vertical-align: top;\n",
       "    }\n",
       "\n",
       "    .dataframe thead th {\n",
       "        text-align: right;\n",
       "    }\n",
       "</style>\n",
       "<table border=\"1\" class=\"dataframe\">\n",
       "  <thead>\n",
       "    <tr style=\"text-align: right;\">\n",
       "      <th></th>\n",
       "      <th>preg</th>\n",
       "      <th>plas</th>\n",
       "      <th>pres</th>\n",
       "      <th>skin</th>\n",
       "      <th>test</th>\n",
       "      <th>mass</th>\n",
       "      <th>pedi</th>\n",
       "      <th>age</th>\n",
       "      <th>class</th>\n",
       "    </tr>\n",
       "  </thead>\n",
       "  <tbody>\n",
       "    <tr>\n",
       "      <th>0</th>\n",
       "      <td>6</td>\n",
       "      <td>148</td>\n",
       "      <td>72</td>\n",
       "      <td>35</td>\n",
       "      <td>0</td>\n",
       "      <td>33.6</td>\n",
       "      <td>0.627</td>\n",
       "      <td>50</td>\n",
       "      <td>1</td>\n",
       "    </tr>\n",
       "    <tr>\n",
       "      <th>1</th>\n",
       "      <td>1</td>\n",
       "      <td>85</td>\n",
       "      <td>66</td>\n",
       "      <td>29</td>\n",
       "      <td>0</td>\n",
       "      <td>26.6</td>\n",
       "      <td>0.351</td>\n",
       "      <td>31</td>\n",
       "      <td>0</td>\n",
       "    </tr>\n",
       "    <tr>\n",
       "      <th>2</th>\n",
       "      <td>8</td>\n",
       "      <td>183</td>\n",
       "      <td>64</td>\n",
       "      <td>0</td>\n",
       "      <td>0</td>\n",
       "      <td>23.3</td>\n",
       "      <td>0.672</td>\n",
       "      <td>32</td>\n",
       "      <td>1</td>\n",
       "    </tr>\n",
       "    <tr>\n",
       "      <th>3</th>\n",
       "      <td>1</td>\n",
       "      <td>89</td>\n",
       "      <td>66</td>\n",
       "      <td>23</td>\n",
       "      <td>94</td>\n",
       "      <td>28.1</td>\n",
       "      <td>0.167</td>\n",
       "      <td>21</td>\n",
       "      <td>0</td>\n",
       "    </tr>\n",
       "    <tr>\n",
       "      <th>4</th>\n",
       "      <td>0</td>\n",
       "      <td>137</td>\n",
       "      <td>40</td>\n",
       "      <td>35</td>\n",
       "      <td>168</td>\n",
       "      <td>43.1</td>\n",
       "      <td>2.288</td>\n",
       "      <td>33</td>\n",
       "      <td>1</td>\n",
       "    </tr>\n",
       "  </tbody>\n",
       "</table>\n",
       "</div>"
      ],
      "text/plain": [
       "   preg  plas  pres  skin  test  mass   pedi  age  class\n",
       "0     6   148    72    35     0  33.6  0.627   50      1\n",
       "1     1    85    66    29     0  26.6  0.351   31      0\n",
       "2     8   183    64     0     0  23.3  0.672   32      1\n",
       "3     1    89    66    23    94  28.1  0.167   21      0\n",
       "4     0   137    40    35   168  43.1  2.288   33      1"
      ]
     },
     "execution_count": 1,
     "metadata": {},
     "output_type": "execute_result"
    }
   ],
   "source": [
    "import pandas as pd\n",
    "import numpy as np\n",
    "names = ['preg', 'plas', 'pres', 'skin', 'test', 'mass', 'pedi', 'age', 'class']\n",
    "dataframe = pd.read_csv('pima-indians-diabetes.csv', names=names)\n",
    "array = dataframe.values\n",
    "X = array[:,0:8] # input\n",
    "Y = array[:,8] # output\n",
    "seed = 7 # seed cho random state\n",
    "dataframe.head()"
   ]
  },
  {
   "cell_type": "markdown",
   "metadata": {},
   "source": [
    "### 1.1 Split into Train and Test Sets (hold out)"
   ]
  },
  {
   "cell_type": "markdown",
   "metadata": {},
   "source": [
    "Phương thức đơn giản nhất để đánh giá sự biểu diễn của thuật toán trong machine learning là sử dụng tập train và tập test khác nhau. Chúng ta có thể tách bộ dữ liệu gốc thành 2 phần train và test.<br>\n",
    "Train thuật toán trên phần đầu và predict trên phần sau.<br>\n",
    "Kĩ thuật đánh giá này rất nhanh. Nó lý tưởng trên bộ dữ liệu lớn (hàng triệu bảng ghi) khi đó có bằng chứng mạnh mẽ rằng việc tách dữ liệu đại diện cho vấn đề đang quan tâm.<br> \n",
    "Và cũng bởi vì tốc độ nên nó hữu ích cho việc tiếp cận khi thuật toán bạn đang đầu tư vào chậm khi train. Mặt trái là, nó có thể có variance lớn. Và sự khác nhau giữa tập train và test thì đưa đến hệ quả là sự khác biệt về ý nghĩa trong mức độ đo lường độ chính xác.<br>\n",
    "Ví dụ bên dưới chia train và test thành 67%, 33%, dùng mô hình Logistic Regression."
   ]
  },
  {
   "cell_type": "code",
   "execution_count": 7,
   "metadata": {},
   "outputs": [
    {
     "name": "stderr",
     "output_type": "stream",
     "text": [
      "C:\\Users\\Administrator\\Anaconda3\\lib\\site-packages\\sklearn\\linear_model\\logistic.py:432: FutureWarning: Default solver will be changed to 'lbfgs' in 0.22. Specify a solver to silence this warning.\n",
      "  FutureWarning)\n"
     ]
    },
    {
     "name": "stdout",
     "output_type": "stream",
     "text": [
      "Accuracy: 75.591%\n"
     ]
    }
   ],
   "source": [
    "from sklearn.model_selection import train_test_split\n",
    "from sklearn.linear_model import LogisticRegression\n",
    "X_train, X_test, Y_train, Y_test = train_test_split(X, Y, test_size=0.33, random_state=seed)\n",
    "model = LogisticRegression()\n",
    "model.fit(X_train, Y_train)\n",
    "result = model.score(X_test, Y_test)\n",
    "print('Accuracy: %.3f%%' % (result*100))"
   ]
  },
  {
   "cell_type": "markdown",
   "metadata": {},
   "source": [
    "Chúng ta có thể thấy đánh giá độ chính xác của mô hình xấp xỉ 75%.<br>\n",
    "**Chú ý** rằng chúng ta có chung kết quả này vì chúng ta đã cụ thể kích cỡ tách (test = 0.33) và random seed (seed =7)<br>\n",
    "Điều này là **quan trọng** nếu chúng ta muốn so sánh kết quả đo lường độ chính xác với một thuật toán khác hoặc cùng thuật toán nhưng với cấu hình khác (configuration). Để đảm bảo sự so sánh này là công bằng, ta phải chắc rằng chúng ta đã train và test trên cùng một dữ liệu."
   ]
  },
  {
   "cell_type": "markdown",
   "metadata": {},
   "source": [
    "### 1.2 K-fold Cross Validation"
   ]
  },
  {
   "cell_type": "markdown",
   "metadata": {},
   "source": [
    "Cross Validation là một cách tiếp cận dùng để đo lường biểu diễn của một thuật toán machine learning với ít variance hơn là một train test split riêng lẻ. Nó hoạt động bằng việc tách bộ dữ liệu thành k phần (ví dụ k = 3, k=5). Mỗi phần tách được gọi là 1 fold. Thuật toán được train trên k folds, với một phần giữ lại và được test trên phần dữ lại của fold đó.<br>\n",
    "Việc này được lặp lại nên mỗi fold trên bộ dữ liệu có cơ hội là một phần giữ lại của bộ test. Sau khi chạy cross validation, sẽ có k số điểm khác nhau, bạn có thể tổng kết lại bằng mean hoặc std.<br>\n",
    "K được chọn phải ứng với kích cỡ của phần test, và phải đủ lớn để trở thành một sample có cơ sở cho vấn đề đặt ra.<br>\n",
    "Cho những bộ dữ liệu có kích thước khiêm tốn, giá trị k thường là 3, 5 hoặc 10. Ví dụ bên dưới là k =10."
   ]
  },
  {
   "cell_type": "code",
   "execution_count": 16,
   "metadata": {},
   "outputs": [
    {
     "name": "stdout",
     "output_type": "stream",
     "text": [
      "Accuracy: 76.951% (4.841%)\n"
     ]
    }
   ],
   "source": [
    "from sklearn.model_selection import KFold, cross_val_score\n",
    "from sklearn.linear_model import LogisticRegression\n",
    "num_folds = 10\n",
    "seed = 7\n",
    "model = LogisticRegression(solver='liblinear') # solver có thể thay đổi nếu để mặc định\n",
    "kfold = KFold(n_splits= num_folds, random_state=seed)\n",
    "results = cross_val_score(model, X, Y, cv=kfold)\n",
    "print(\"Accuracy: %.3f%% (%.3f%%)\" % (results.mean()*100, results.std()*100))"
   ]
  },
  {
   "cell_type": "markdown",
   "metadata": {},
   "source": [
    "Độ chính xác xấp xỉ 77% và dao động trong khoảng 4.8%"
   ]
  },
  {
   "cell_type": "markdown",
   "metadata": {},
   "source": [
    "### 1.3 Leave One Out Cross Validation"
   ]
  },
  {
   "cell_type": "code",
   "execution_count": 4,
   "metadata": {},
   "outputs": [
    {
     "name": "stdout",
     "output_type": "stream",
     "text": [
      "Accuracy 76.823% (42.196%)\n"
     ]
    }
   ],
   "source": [
    "from sklearn.model_selection import LeaveOneOut, cross_val_score\n",
    "from sklearn.linear_model import LogisticRegression\n",
    "loocv = LeaveOneOut()\n",
    "model = LogisticRegression(solver='liblinear')\n",
    "results = cross_val_score(model, X, Y, cv=loocv)\n",
    "print('Accuracy %.3f%% (%.3f%%)' % (results.mean()*100, results.std()*100))"
   ]
  },
  {
   "cell_type": "markdown",
   "metadata": {},
   "source": [
    "Điểm số của std ở phương pháp này có variance lớn hơn hẳn so với k-fold cross validation ở trên."
   ]
  },
  {
   "cell_type": "markdown",
   "metadata": {},
   "source": [
    "### 1.4 Repeated Random Test-Train Splits"
   ]
  },
  {
   "cell_type": "markdown",
   "metadata": {},
   "source": [
    "Một biến thể khác của k-fold cross validation là tạo ra một phần tách ngẫu nhiên của dữ liệu, nhưng lặp lại quá trình tách và đánh giá thuật toán này nhiều lần như cross validation.<br> \n",
    "Nó có tốc độ như sử dụng train test split, và giảm được variance khi đo lường biểu diễn trong k-fold cross validation. Bạn có thể lặp lại nhiều lần nếu cần để cải thiện độ chính xác.<br>\n",
    "Mặt yếu của kĩ thuật này là những cái lặp lại này có thể trùng với trùng với dữ liệu bộ train và test trước đó dẫn đến việc đánh giá bị thừa.<br>\n",
    "Ví dụ bên dưới tách dữ liệu train test thành 67% và 33% và lặp lại quá trình này 10 lần."
   ]
  },
  {
   "cell_type": "code",
   "execution_count": 8,
   "metadata": {},
   "outputs": [
    {
     "name": "stdout",
     "output_type": "stream",
     "text": [
      "Accuracy 76.535% (1.691%)\n"
     ]
    }
   ],
   "source": [
    "from sklearn.linear_model import LogisticRegression\n",
    "from sklearn.model_selection import ShuffleSplit, cross_val_score\n",
    "model = LogisticRegression(solver='liblinear')\n",
    "seed = 7\n",
    "test_size = 0.33\n",
    "n_splits = 10\n",
    "kfold = ShuffleSplit(n_splits=n_splits, test_size=test_size, random_state=seed)\n",
    "results = cross_val_score(model, X, Y, cv=kfold)\n",
    "print('Accuracy %.3f%% (%.3f%%)' % (results.mean()*100, results.std()*100))"
   ]
  },
  {
   "cell_type": "markdown",
   "metadata": {},
   "source": [
    "Chúng ta có thể thấy rằng ở lần này, thì điểm số gần với nhau hơn (std thấp)"
   ]
  },
  {
   "cell_type": "markdown",
   "metadata": {},
   "source": [
    "## II. Conclusions"
   ]
  },
  {
   "cell_type": "markdown",
   "metadata": {},
   "source": [
    "### Những kĩ thuật này được dùng khi nào?\n",
    "- Nhìn chung k-fold cross validation là một kĩ thuật chuẩn để đánh giá biểu diễn của mô hình cho dữ liệu chưa từng được nhìn thấy. Với k là 3,5 hoặc 10.\n",
    "- Sử dụng train test split (hold out) thì tốc độ nhanh và thích hợp với các thuật toán training chậm hoặc bộ dữ liệu **lớn** với bias thấp hơn.\n",
    "- Kĩ thuật như leave one out và repeated random test train thì hữu ích ở tầm trung khi cố gắng cân bằng variance trong việc đo lường biểu diễn, tốc độ training mô hình và và kíck cỡ dữ liệu.<br>\n",
    "\n",
    "Cách tốt nhất là trải nghiệm và tìm ra kĩ thuật cho vấn đề của bạn là nhanh và đưa ra được những đo lường lý tưởng cho sự biểu diễn. Nếu còn hồ nghi thì dùng 10-fold cross validation."
   ]
  }
 ],
 "metadata": {
  "kernelspec": {
   "display_name": "Python 3",
   "language": "python",
   "name": "python3"
  },
  "language_info": {
   "codemirror_mode": {
    "name": "ipython",
    "version": 3
   },
   "file_extension": ".py",
   "mimetype": "text/x-python",
   "name": "python",
   "nbconvert_exporter": "python",
   "pygments_lexer": "ipython3",
   "version": "3.6.5"
  }
 },
 "nbformat": 4,
 "nbformat_minor": 2
}
