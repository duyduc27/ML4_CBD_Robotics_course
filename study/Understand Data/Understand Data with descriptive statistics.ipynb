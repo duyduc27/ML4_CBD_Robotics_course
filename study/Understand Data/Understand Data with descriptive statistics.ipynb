{
 "cells": [
  {
   "cell_type": "markdown",
   "metadata": {},
   "source": [
    "# I. Understand your data with descriptive statistics"
   ]
  },
  {
   "cell_type": "markdown",
   "metadata": {},
   "source": [
    "### 1.1 Peak at your data"
   ]
  },
  {
   "cell_type": "code",
   "execution_count": 19,
   "metadata": {},
   "outputs": [
    {
     "name": "stdout",
     "output_type": "stream",
     "text": [
      "    preg  plas  pres  skin  test  mass   pedi  age  class\n",
      "0      6   148    72    35     0  33.6  0.627   50      1\n",
      "1      1    85    66    29     0  26.6  0.351   31      0\n",
      "2      8   183    64     0     0  23.3  0.672   32      1\n",
      "3      1    89    66    23    94  28.1  0.167   21      0\n",
      "4      0   137    40    35   168  43.1  2.288   33      1\n",
      "5      5   116    74     0     0  25.6  0.201   30      0\n",
      "6      3    78    50    32    88  31.0  0.248   26      1\n",
      "7     10   115     0     0     0  35.3  0.134   29      0\n",
      "8      2   197    70    45   543  30.5  0.158   53      1\n",
      "9      8   125    96     0     0   0.0  0.232   54      1\n",
      "10     4   110    92     0     0  37.6  0.191   30      0\n",
      "11    10   168    74     0     0  38.0  0.537   34      1\n",
      "12    10   139    80     0     0  27.1  1.441   57      0\n",
      "13     1   189    60    23   846  30.1  0.398   59      1\n",
      "14     5   166    72    19   175  25.8  0.587   51      1\n",
      "15     7   100     0     0     0  30.0  0.484   32      1\n",
      "16     0   118    84    47   230  45.8  0.551   31      1\n",
      "17     7   107    74     0     0  29.6  0.254   31      1\n",
      "18     1   103    30    38    83  43.3  0.183   33      0\n",
      "19     1   115    70    30    96  34.6  0.529   32      1\n"
     ]
    }
   ],
   "source": [
    "import pandas as pd\n",
    "names = ['preg', 'plas', 'pres', 'skin', 'test', 'mass', 'pedi', 'age', 'class']\n",
    "data = pd.read_csv(\"pima-indians-diabetes.csv\", names=names) # dữ liệu chuẩn đoán bệnh tiểu đường\n",
    "peek = data.head(20)\n",
    "print(peek)"
   ]
  },
  {
   "cell_type": "markdown",
   "metadata": {},
   "source": [
    "### 1.2 Dimesions of your Data"
   ]
  },
  {
   "cell_type": "code",
   "execution_count": 20,
   "metadata": {},
   "outputs": [
    {
     "name": "stdout",
     "output_type": "stream",
     "text": [
      "(768, 9)\n"
     ]
    }
   ],
   "source": [
    "shape = data.shape\n",
    "print(shape)"
   ]
  },
  {
   "cell_type": "markdown",
   "metadata": {},
   "source": [
    "Bộ dữ liệu có 768 hàng và 9 cột"
   ]
  },
  {
   "cell_type": "markdown",
   "metadata": {},
   "source": [
    "### 1.3 Data type of each Attribute"
   ]
  },
  {
   "cell_type": "markdown",
   "metadata": {},
   "source": [
    "Loại của Atribute thì quan trọng.<br> \n",
    "- String thì có thể nên được convert về Floating point values.\n",
    "- Integer đại diện cho Categorical hoặc Ordinal value."
   ]
  },
  {
   "cell_type": "code",
   "execution_count": 21,
   "metadata": {},
   "outputs": [
    {
     "name": "stdout",
     "output_type": "stream",
     "text": [
      "preg       int64\n",
      "plas       int64\n",
      "pres       int64\n",
      "skin       int64\n",
      "test       int64\n",
      "mass     float64\n",
      "pedi     float64\n",
      "age        int64\n",
      "class      int64\n",
      "dtype: object\n"
     ]
    }
   ],
   "source": [
    "types = data.dtypes\n",
    "print(types)"
   ]
  },
  {
   "cell_type": "markdown",
   "metadata": {},
   "source": [
    "### 1.4 Descriptive Statistics"
   ]
  },
  {
   "cell_type": "code",
   "execution_count": 25,
   "metadata": {},
   "outputs": [
    {
     "data": {
      "text/html": [
       "<div>\n",
       "<style scoped>\n",
       "    .dataframe tbody tr th:only-of-type {\n",
       "        vertical-align: middle;\n",
       "    }\n",
       "\n",
       "    .dataframe tbody tr th {\n",
       "        vertical-align: top;\n",
       "    }\n",
       "\n",
       "    .dataframe thead th {\n",
       "        text-align: right;\n",
       "    }\n",
       "</style>\n",
       "<table border=\"1\" class=\"dataframe\">\n",
       "  <thead>\n",
       "    <tr style=\"text-align: right;\">\n",
       "      <th></th>\n",
       "      <th>preg</th>\n",
       "      <th>plas</th>\n",
       "      <th>pres</th>\n",
       "      <th>skin</th>\n",
       "      <th>test</th>\n",
       "      <th>mass</th>\n",
       "      <th>pedi</th>\n",
       "      <th>age</th>\n",
       "      <th>class</th>\n",
       "    </tr>\n",
       "  </thead>\n",
       "  <tbody>\n",
       "    <tr>\n",
       "      <th>count</th>\n",
       "      <td>768.000</td>\n",
       "      <td>768.000</td>\n",
       "      <td>768.000</td>\n",
       "      <td>768.000</td>\n",
       "      <td>768.000</td>\n",
       "      <td>768.000</td>\n",
       "      <td>768.000</td>\n",
       "      <td>768.000</td>\n",
       "      <td>768.000</td>\n",
       "    </tr>\n",
       "    <tr>\n",
       "      <th>mean</th>\n",
       "      <td>3.845</td>\n",
       "      <td>120.895</td>\n",
       "      <td>69.105</td>\n",
       "      <td>20.536</td>\n",
       "      <td>79.799</td>\n",
       "      <td>31.993</td>\n",
       "      <td>0.472</td>\n",
       "      <td>33.241</td>\n",
       "      <td>0.349</td>\n",
       "    </tr>\n",
       "    <tr>\n",
       "      <th>std</th>\n",
       "      <td>3.370</td>\n",
       "      <td>31.973</td>\n",
       "      <td>19.356</td>\n",
       "      <td>15.952</td>\n",
       "      <td>115.244</td>\n",
       "      <td>7.884</td>\n",
       "      <td>0.331</td>\n",
       "      <td>11.760</td>\n",
       "      <td>0.477</td>\n",
       "    </tr>\n",
       "    <tr>\n",
       "      <th>min</th>\n",
       "      <td>0.000</td>\n",
       "      <td>0.000</td>\n",
       "      <td>0.000</td>\n",
       "      <td>0.000</td>\n",
       "      <td>0.000</td>\n",
       "      <td>0.000</td>\n",
       "      <td>0.078</td>\n",
       "      <td>21.000</td>\n",
       "      <td>0.000</td>\n",
       "    </tr>\n",
       "    <tr>\n",
       "      <th>25%</th>\n",
       "      <td>1.000</td>\n",
       "      <td>99.000</td>\n",
       "      <td>62.000</td>\n",
       "      <td>0.000</td>\n",
       "      <td>0.000</td>\n",
       "      <td>27.300</td>\n",
       "      <td>0.244</td>\n",
       "      <td>24.000</td>\n",
       "      <td>0.000</td>\n",
       "    </tr>\n",
       "    <tr>\n",
       "      <th>50%</th>\n",
       "      <td>3.000</td>\n",
       "      <td>117.000</td>\n",
       "      <td>72.000</td>\n",
       "      <td>23.000</td>\n",
       "      <td>30.500</td>\n",
       "      <td>32.000</td>\n",
       "      <td>0.372</td>\n",
       "      <td>29.000</td>\n",
       "      <td>0.000</td>\n",
       "    </tr>\n",
       "    <tr>\n",
       "      <th>75%</th>\n",
       "      <td>6.000</td>\n",
       "      <td>140.250</td>\n",
       "      <td>80.000</td>\n",
       "      <td>32.000</td>\n",
       "      <td>127.250</td>\n",
       "      <td>36.600</td>\n",
       "      <td>0.626</td>\n",
       "      <td>41.000</td>\n",
       "      <td>1.000</td>\n",
       "    </tr>\n",
       "    <tr>\n",
       "      <th>max</th>\n",
       "      <td>17.000</td>\n",
       "      <td>199.000</td>\n",
       "      <td>122.000</td>\n",
       "      <td>99.000</td>\n",
       "      <td>846.000</td>\n",
       "      <td>67.100</td>\n",
       "      <td>2.420</td>\n",
       "      <td>81.000</td>\n",
       "      <td>1.000</td>\n",
       "    </tr>\n",
       "  </tbody>\n",
       "</table>\n",
       "</div>"
      ],
      "text/plain": [
       "          preg     plas     pres     skin     test     mass     pedi      age    class\n",
       "count  768.000  768.000  768.000  768.000  768.000  768.000  768.000  768.000  768.000\n",
       "mean     3.845  120.895   69.105   20.536   79.799   31.993    0.472   33.241    0.349\n",
       "std      3.370   31.973   19.356   15.952  115.244    7.884    0.331   11.760    0.477\n",
       "min      0.000    0.000    0.000    0.000    0.000    0.000    0.078   21.000    0.000\n",
       "25%      1.000   99.000   62.000    0.000    0.000   27.300    0.244   24.000    0.000\n",
       "50%      3.000  117.000   72.000   23.000   30.500   32.000    0.372   29.000    0.000\n",
       "75%      6.000  140.250   80.000   32.000  127.250   36.600    0.626   41.000    1.000\n",
       "max     17.000  199.000  122.000   99.000  846.000   67.100    2.420   81.000    1.000"
      ]
     },
     "execution_count": 25,
     "metadata": {},
     "output_type": "execute_result"
    }
   ],
   "source": [
    "pd.set_option('display.width', 100) # độ rộng của output\n",
    "pd.set_option('precision', 3) # độ chính xác tới 3 trong float\n",
    "description = data.describe()\n",
    "description"
   ]
  },
  {
   "cell_type": "markdown",
   "metadata": {},
   "source": [
    "### 1.5 Class Distribution (Classification Only)"
   ]
  },
  {
   "cell_type": "markdown",
   "metadata": {},
   "source": [
    "Trong vấn đề về phân loại, bạn cần biết dữ liệu của _class cần được phân loại_ cân bằng như thế nào.<br>\n",
    "Việc dữ liệu mất cân bằng lớn (rất nhiều quan sát trong class cần được phân loại đó thì chệch hẳn về một label) thì rất phổ biến và cần những cách xử lý đặc biệt trong giai đoạn chuẩn bị dữ liệu. "
   ]
  },
  {
   "cell_type": "code",
   "execution_count": 29,
   "metadata": {},
   "outputs": [
    {
     "name": "stdout",
     "output_type": "stream",
     "text": [
      "class\n",
      "0    500\n",
      "1    268\n",
      "dtype: int64\n"
     ]
    }
   ],
   "source": [
    "class_counts = data.groupby('class').size()\n",
    "print(class_counts)"
   ]
  },
  {
   "cell_type": "code",
   "execution_count": 30,
   "metadata": {},
   "outputs": [
    {
     "data": {
      "text/plain": [
       "0    500\n",
       "1    268\n",
       "Name: class, dtype: int64"
      ]
     },
     "execution_count": 30,
     "metadata": {},
     "output_type": "execute_result"
    }
   ],
   "source": [
    "# another way\n",
    "data['class'].value_counts()"
   ]
  },
  {
   "cell_type": "markdown",
   "metadata": {},
   "source": [
    "### 1.6 Correlations between Attributes"
   ]
  },
  {
   "cell_type": "markdown",
   "metadata": {},
   "source": [
    "- Correlation quy về mối quan hệ giữa 2 biến, và liệu chúng có thay đổi hoặc không thay đổi cùng nhau. Phương thức phổ biến nhất cho việc tính toán Correlation là **Pearson’s Correlation Coefficient**, giả sử các attribute liên quan trong một _phân phối chuẩn_.\n",
    "- Mối tương quan (correlation) từ -1 hay 1 thể hiện mối tương quan nghịch hay thuận (theo thứ tự). Trong khi ở giá trị 0 tức là không có mối tương quan.\n",
    "- Chú ý, một vài thuật toán trong linear và logistic regression có thể trở nên mất hiệu quả, nếu các attribute có _độ tương quan cao_ trong dữ liệu."
   ]
  },
  {
   "cell_type": "code",
   "execution_count": 31,
   "metadata": {},
   "outputs": [
    {
     "data": {
      "text/html": [
       "<div>\n",
       "<style scoped>\n",
       "    .dataframe tbody tr th:only-of-type {\n",
       "        vertical-align: middle;\n",
       "    }\n",
       "\n",
       "    .dataframe tbody tr th {\n",
       "        vertical-align: top;\n",
       "    }\n",
       "\n",
       "    .dataframe thead th {\n",
       "        text-align: right;\n",
       "    }\n",
       "</style>\n",
       "<table border=\"1\" class=\"dataframe\">\n",
       "  <thead>\n",
       "    <tr style=\"text-align: right;\">\n",
       "      <th></th>\n",
       "      <th>preg</th>\n",
       "      <th>plas</th>\n",
       "      <th>pres</th>\n",
       "      <th>skin</th>\n",
       "      <th>test</th>\n",
       "      <th>mass</th>\n",
       "      <th>pedi</th>\n",
       "      <th>age</th>\n",
       "      <th>class</th>\n",
       "    </tr>\n",
       "  </thead>\n",
       "  <tbody>\n",
       "    <tr>\n",
       "      <th>preg</th>\n",
       "      <td>1.000</td>\n",
       "      <td>0.129</td>\n",
       "      <td>0.141</td>\n",
       "      <td>-0.082</td>\n",
       "      <td>-0.074</td>\n",
       "      <td>0.018</td>\n",
       "      <td>-0.034</td>\n",
       "      <td>0.544</td>\n",
       "      <td>0.222</td>\n",
       "    </tr>\n",
       "    <tr>\n",
       "      <th>plas</th>\n",
       "      <td>0.129</td>\n",
       "      <td>1.000</td>\n",
       "      <td>0.153</td>\n",
       "      <td>0.057</td>\n",
       "      <td>0.331</td>\n",
       "      <td>0.221</td>\n",
       "      <td>0.137</td>\n",
       "      <td>0.264</td>\n",
       "      <td>0.467</td>\n",
       "    </tr>\n",
       "    <tr>\n",
       "      <th>pres</th>\n",
       "      <td>0.141</td>\n",
       "      <td>0.153</td>\n",
       "      <td>1.000</td>\n",
       "      <td>0.207</td>\n",
       "      <td>0.089</td>\n",
       "      <td>0.282</td>\n",
       "      <td>0.041</td>\n",
       "      <td>0.240</td>\n",
       "      <td>0.065</td>\n",
       "    </tr>\n",
       "    <tr>\n",
       "      <th>skin</th>\n",
       "      <td>-0.082</td>\n",
       "      <td>0.057</td>\n",
       "      <td>0.207</td>\n",
       "      <td>1.000</td>\n",
       "      <td>0.437</td>\n",
       "      <td>0.393</td>\n",
       "      <td>0.184</td>\n",
       "      <td>-0.114</td>\n",
       "      <td>0.075</td>\n",
       "    </tr>\n",
       "    <tr>\n",
       "      <th>test</th>\n",
       "      <td>-0.074</td>\n",
       "      <td>0.331</td>\n",
       "      <td>0.089</td>\n",
       "      <td>0.437</td>\n",
       "      <td>1.000</td>\n",
       "      <td>0.198</td>\n",
       "      <td>0.185</td>\n",
       "      <td>-0.042</td>\n",
       "      <td>0.131</td>\n",
       "    </tr>\n",
       "    <tr>\n",
       "      <th>mass</th>\n",
       "      <td>0.018</td>\n",
       "      <td>0.221</td>\n",
       "      <td>0.282</td>\n",
       "      <td>0.393</td>\n",
       "      <td>0.198</td>\n",
       "      <td>1.000</td>\n",
       "      <td>0.141</td>\n",
       "      <td>0.036</td>\n",
       "      <td>0.293</td>\n",
       "    </tr>\n",
       "    <tr>\n",
       "      <th>pedi</th>\n",
       "      <td>-0.034</td>\n",
       "      <td>0.137</td>\n",
       "      <td>0.041</td>\n",
       "      <td>0.184</td>\n",
       "      <td>0.185</td>\n",
       "      <td>0.141</td>\n",
       "      <td>1.000</td>\n",
       "      <td>0.034</td>\n",
       "      <td>0.174</td>\n",
       "    </tr>\n",
       "    <tr>\n",
       "      <th>age</th>\n",
       "      <td>0.544</td>\n",
       "      <td>0.264</td>\n",
       "      <td>0.240</td>\n",
       "      <td>-0.114</td>\n",
       "      <td>-0.042</td>\n",
       "      <td>0.036</td>\n",
       "      <td>0.034</td>\n",
       "      <td>1.000</td>\n",
       "      <td>0.238</td>\n",
       "    </tr>\n",
       "    <tr>\n",
       "      <th>class</th>\n",
       "      <td>0.222</td>\n",
       "      <td>0.467</td>\n",
       "      <td>0.065</td>\n",
       "      <td>0.075</td>\n",
       "      <td>0.131</td>\n",
       "      <td>0.293</td>\n",
       "      <td>0.174</td>\n",
       "      <td>0.238</td>\n",
       "      <td>1.000</td>\n",
       "    </tr>\n",
       "  </tbody>\n",
       "</table>\n",
       "</div>"
      ],
      "text/plain": [
       "        preg   plas   pres   skin   test   mass   pedi    age  class\n",
       "preg   1.000  0.129  0.141 -0.082 -0.074  0.018 -0.034  0.544  0.222\n",
       "plas   0.129  1.000  0.153  0.057  0.331  0.221  0.137  0.264  0.467\n",
       "pres   0.141  0.153  1.000  0.207  0.089  0.282  0.041  0.240  0.065\n",
       "skin  -0.082  0.057  0.207  1.000  0.437  0.393  0.184 -0.114  0.075\n",
       "test  -0.074  0.331  0.089  0.437  1.000  0.198  0.185 -0.042  0.131\n",
       "mass   0.018  0.221  0.282  0.393  0.198  1.000  0.141  0.036  0.293\n",
       "pedi  -0.034  0.137  0.041  0.184  0.185  0.141  1.000  0.034  0.174\n",
       "age    0.544  0.264  0.240 -0.114 -0.042  0.036  0.034  1.000  0.238\n",
       "class  0.222  0.467  0.065  0.075  0.131  0.293  0.174  0.238  1.000"
      ]
     },
     "execution_count": 31,
     "metadata": {},
     "output_type": "execute_result"
    }
   ],
   "source": [
    "correlations = data.corr(method='pearson')\n",
    "correlations"
   ]
  },
  {
   "cell_type": "code",
   "execution_count": 35,
   "metadata": {},
   "outputs": [
    {
     "data": {
      "text/plain": [
       "<matplotlib.axes._subplots.AxesSubplot at 0xf4e4710>"
      ]
     },
     "execution_count": 35,
     "metadata": {},
     "output_type": "execute_result"
    },
    {
     "data": {
      "image/png": "[encoded data removed]",
      "text/plain": [
       "<Figure size 576x576 with 2 Axes>"
      ]
     },
     "metadata": {
      "needs_background": "light"
     },
     "output_type": "display_data"
    }
   ],
   "source": [
    "import seaborn as sns\n",
    "import matplotlib.pyplot as plt\n",
    "fig, ax = plt.subplots(figsize=(8,8)) \n",
    "sns.heatmap(correlations,\n",
    "           xticklabels=correlations.columns.values,\n",
    "           yticklabels=correlations.columns.values,\n",
    "           annot=True, fmt='.3f')"
   ]
  },
  {
   "cell_type": "markdown",
   "metadata": {},
   "source": [
    "### 1.7 Skew of Univariate Distributions"
   ]
  },
  {
   "cell_type": "markdown",
   "metadata": {},
   "source": [
    "- Skew quy về một phân phối được cho là phân phối Gaussian (phân phối chuẩn hay phân phối hình chuông)\n",
    "- Nhiều thuật toán machine learning ứng với phân phối Gaussian. Biết skew của Attritube cho phép bạn tiến hành chuẩn bị dữ liệu để sửa chữa skew và sau đó là cải thiện độ chính xác của mô hình."
   ]
  },
  {
   "cell_type": "code",
   "execution_count": 37,
   "metadata": {},
   "outputs": [
    {
     "name": "stdout",
     "output_type": "stream",
     "text": [
      "preg     0.902\n",
      "plas     0.174\n",
      "pres    -1.844\n",
      "skin     0.109\n",
      "test     2.272\n",
      "mass    -0.429\n",
      "pedi     1.920\n",
      "age      1.130\n",
      "class    0.635\n",
      "dtype: float64\n"
     ]
    }
   ],
   "source": [
    "skew = data.skew()\n",
    "print(skew)"
   ]
  },
  {
   "cell_type": "markdown",
   "metadata": {},
   "source": [
    "Bảng kết quả của độ cân xứng (skew). Trong đó dương (lệch phải), âm (lệch trái). Dữ liệu càng gần về 0 cho thấy ít bị lệch."
   ]
  },
  {
   "cell_type": "code",
   "execution_count": null,
   "metadata": {},
   "outputs": [],
   "source": []
  }
 ],
 "metadata": {
  "kernelspec": {
   "display_name": "Python 3",
   "language": "python",
   "name": "python3"
  },
  "language_info": {
   "codemirror_mode": {
    "name": "ipython",
    "version": 3
   },
   "file_extension": ".py",
   "mimetype": "text/x-python",
   "name": "python",
   "nbconvert_exporter": "python",
   "pygments_lexer": "ipython3",
   "version": "3.6.5"
  }
 },
 "nbformat": 4,
 "nbformat_minor": 2
}
